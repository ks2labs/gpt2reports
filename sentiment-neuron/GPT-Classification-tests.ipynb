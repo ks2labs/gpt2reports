{
 "cells": [
  {
   "cell_type": "markdown",
   "metadata": {},
   "source": [
    "# GPT Classification Tests\n",
    "\n",
    "In this notebook I am testing how GPT classification works and what is it's predictions before the sentence ends, i.e. is it true that GPT already knows the outcome with a certain probability, but it get's really sure as the text ends. This is my version of the [Unsupervised Sentiment Neuron](https://openai.com/blog/unsupervised-sentiment-neuron/) from OpenAI applied on transformers."
   ]
  },
  {
   "cell_type": "code",
   "execution_count": 96,
   "metadata": {},
   "outputs": [],
   "source": [
    "from transformers import GPT2Config, GPT2Model, GPT2Tokenizer, GPT2LMHeadModel\n",
    "from transformers.modeling_outputs import CausalLMOutputWithCrossAttentions\n",
    "   \n",
    "import numpy as np\n",
    "import matplotlib.pyplot as plt\n",
    "%matplotlib inline\n",
    "from tqdm import trange\n",
    "from datasets import load_dataset\n",
    "\n",
    "import os\n",
    "import torch\n",
    "\n",
    "from torch import nn\n",
    "from torch.nn import functional as F\n",
    "from torch.utils.data import DataLoader, Dataset, TensorDataset\n",
    "\n",
    "from types import SimpleNamespace\n",
    "from scipy.signal import savgol_filter\n",
    "from sentencepiece import SentencePieceTrainer, SentencePieceProcessor\n",
    "\n",
    "from sklearn.metrics import plot_confusion_matrix, confusion_matrix, ConfusionMatrixDisplay"
   ]
  },
  {
   "cell_type": "code",
   "execution_count": 2,
   "metadata": {},
   "outputs": [],
   "source": [
    "device = torch.device(\"cuda:0\") if torch.cuda.is_available() else torch.device(\"cpu\")"
   ]
  },
  {
   "cell_type": "code",
   "execution_count": 3,
   "metadata": {},
   "outputs": [
    {
     "name": "stdout",
     "output_type": "stream",
     "text": [
      "\u001b[41m \u001b[0m: 1 star \u001b[43m \u001b[0m: 2 star \u001b[46m \u001b[0m: 3 star \u001b[45m \u001b[0m: 4 star \u001b[44m \u001b[0m: 5 star\n",
      "\u001b[41mIn \u001b[43mthis \u001b[46mworld \u001b[45mof \u001b[44mfast \u001b[46mmov \u001b[45ming \u001b[43mtext\u001b[0m\n",
      "target -> \u001b[46m \u001b[0m: 3 star\n"
     ]
    }
   ],
   "source": [
    "CGREYBG   = '\\33[100m'\n",
    "CREDBG    = '\\33[41m'\n",
    "CGREENBG  = '\\33[42m'\n",
    "CYELLOWBG = '\\33[43m'\n",
    "CBLUEBG   = '\\33[44m'\n",
    "CVIOLETBG = '\\33[45m'\n",
    "CBEIGE2  = '\\33[46m'\n",
    "CEND = '\\033[0m'\n",
    "\n",
    "color_by_stars = {\n",
    "  0: CREDBG,\n",
    "  1: CYELLOWBG,\n",
    "  2: CBEIGE2,\n",
    "  3: CVIOLETBG,\n",
    "  4: CBLUEBG\n",
    "}\n",
    "\n",
    "color_names = [\n",
    "  f\"{color_by_stars[0]} {CEND}: 1 star\",\n",
    "  f\"{color_by_stars[1]} {CEND}: 2 star\",\n",
    "  f\"{color_by_stars[2]} {CEND}: 3 star\",\n",
    "  f\"{color_by_stars[3]} {CEND}: 4 star\",\n",
    "  f\"{color_by_stars[4]} {CEND}: 5 star\",\n",
    "]\n",
    "\n",
    "def get_colored_help():\n",
    "  return \" \".join(color_names)\n",
    "\n",
    "def get_colored_text(tokens, scores, h = True):\n",
    "  _str = \"\"\n",
    "  if h:\n",
    "    _str = get_colored_help()\n",
    "    _str += \"\\n\"\n",
    "  for t,s in zip(tokens, scores):\n",
    "    _str += color_by_stars[s] + t + \" \"\n",
    "  _str = _str[:-1] + CEND\n",
    "  \n",
    "  return _str\n",
    "\n",
    "\n",
    "print(get_colored_text(\n",
    "  [\"In\", \"this\", \"world\", \"of\", \"fast\", \"mov\", \"ing\" , \"text\"],\n",
    "  [0, 1, 2, 3, 4, 2, 3, 1, 2]\n",
    "))\n",
    "print(\"target ->\", color_names[2])"
   ]
  },
  {
   "cell_type": "code",
   "execution_count": 58,
   "metadata": {},
   "outputs": [],
   "source": [
    "def accuracy(logits, stars):\n",
    "  acc_ = sum(logits.argmax(-1) == stars) / len(stars)\n",
    "  return acc_"
   ]
  },
  {
   "cell_type": "code",
   "execution_count": 4,
   "metadata": {},
   "outputs": [],
   "source": [
    "MAX_SEQLEN = 256\n",
    "BATCH_SIZE = 64\n",
    "GRAD_ACC_STEPS = 1 # effective batch size = 512\n",
    "NUM_TRAIN_STEPS = 1000 * 16 # one epochs -> 200000 // 64 == 3125 so we train for ~5.12\n",
    "LEARNING_RATE = 1e-5\n",
    "WEIGHT_DECAY = 0\n",
    "END_OF_TEXT = \"<|endoftext|>\"\n",
    "\n",
    "# define the tokenizer\n",
    "tokenizer = GPT2Tokenizer.from_pretrained(\"gpt2\")\n",
    "tokenizer.pad_token = tokenizer.eos_token\n",
    "tokenizer.model_max_length = MAX_SEQLEN"
   ]
  },
  {
   "cell_type": "code",
   "execution_count": 5,
   "metadata": {
    "scrolled": true
   },
   "outputs": [
    {
     "name": "stderr",
     "output_type": "stream",
     "text": [
      "Reusing dataset amazon_reviews_multi (/home/npawdev/.cache/huggingface/datasets/amazon_reviews_multi/en/1.0.0/f3357bd271e187385a38574fe31b8fb10055303f67fa9fce55e84d08c4870efd)\n"
     ]
    },
    {
     "data": {
      "text/plain": [
       "DatasetDict({\n",
       "    train: Dataset({\n",
       "        features: ['stars', 'review_body'],\n",
       "        num_rows: 200000\n",
       "    })\n",
       "    validation: Dataset({\n",
       "        features: ['stars', 'review_body'],\n",
       "        num_rows: 5000\n",
       "    })\n",
       "    test: Dataset({\n",
       "        features: ['stars', 'review_body'],\n",
       "        num_rows: 5000\n",
       "    })\n",
       "})"
      ]
     },
     "execution_count": 5,
     "metadata": {},
     "output_type": "execute_result"
    }
   ],
   "source": [
    "# load dataset and remove useless columns\n",
    "amazon_reviews = load_dataset('amazon_reviews_multi', 'en')\n",
    "amazon_reviews.remove_columns_([\n",
    "  'review_id', 'product_id', 'reviewer_id', 'review_title', 'language', 'product_category'\n",
    "])\n",
    "amazon_reviews"
   ]
  },
  {
   "cell_type": "code",
   "execution_count": 6,
   "metadata": {},
   "outputs": [
    {
     "name": "stdout",
     "output_type": "stream",
     "text": [
      "Arrived broken. Manufacturer defect. Two of the legs of the base were not completely formed, so there was no way to insert the casters. I unpackaged the entire chair and hardware before noticing this. So, I'll spend twice the amount of time boxing up the whole useless thing and send it back with a 1-star review of part of a chair I never got to sit in. I will go so far as to include a picture of what their injection molding and quality assurance process missed though. I will be hesitant to buy again. It makes me wonder if there aren't missing structures and supports that don't impede the assembly process. ---> 1\n",
      "the cabinet dot were all detached from backing... got me ---> 1\n",
      "I received my first order of this product and it was broke so I ordered it again. The second one was broke in more places than the first. I can't blame the shipping process as it's shrink wrapped and boxed. ---> 1\n",
      "This product is a piece of shit. Do not buy. Doesn't work, and then I try to call for customer support, it won't take my number. Fucking rip off! ---> 1\n",
      "went through 3 in one day doesn't fit correct and couldn't get bubbles out (better without) ---> 1\n",
      "Poor quality. The material was fuzzy from day one. It got discolored in less than a month, even though we kept it outdoors under a covered porch. I returned this item. ---> 1\n",
      "Ordered 2 they shipped 1 promised by certain day, then the next day, then the next day. ---> 1\n",
      "Followed directions, did not work as advertised. ---> 1\n",
      "There is a terribly done band across the top. Supposed to keep the shirt on your shoulders but seems more of like a waistband. ---> 1\n",
      "Unless you have this jam-packed full of items, the unit collapses on itself. I never held it's shape therefore, making it hard to reach my items when I needed them. The silver metal pieces on the handle fell off soon after it arrived. I must have missed the \"return by\" date as I now am stuck with it. ---> 1\n"
     ]
    }
   ],
   "source": [
    "data = amazon_reviews[\"train\"][:10]\n",
    "for text, stars in zip(data[\"review_body\"], data[\"stars\"]):\n",
    "  print(text, \"--->\", stars)"
   ]
  },
  {
   "cell_type": "code",
   "execution_count": 7,
   "metadata": {},
   "outputs": [],
   "source": [
    "if not os.path.exists(\"./all_reviews.txt\"):\n",
    "  # write a complete file with text and train a sentence piece tokeniser\n",
    "  with open(\"./all_reviews.txt\", \"w\") as f:\n",
    "    for x in [\"train\", \"test\", \"validation\"]:\n",
    "      f.write(\"\\n\".join(amazon_reviews_with_eos[x][\"review_body\"]))\n",
    "\n",
    "  # sentencepiece\n",
    "  SentencePieceTrainer.train(f'''--input=all_reviews.txt \\\n",
    "  --model_prefix=ar \\\n",
    "  --vocab_size=1999\n",
    "  ''')"
   ]
  },
  {
   "cell_type": "code",
   "execution_count": 8,
   "metadata": {},
   "outputs": [
    {
     "name": "stdout",
     "output_type": "stream",
     "text": [
      "Vocab Size: 2000\n",
      "{'input_ids': tensor([[1382,  644,   47,   37,   27,  401,  281, 1999],\n",
      "        [ 680,   20,  324,  239, 1999, 1999, 1999, 1999]]), 'attention_mask': tensor([[1, 1, 1, 1, 1, 1, 1, 1],\n",
      "        [1, 1, 1, 1, 1, 0, 0, 0]])}\n",
      "[[123, 423, 342, 123, 123]]\n"
     ]
    }
   ],
   "source": [
    "class SentencePieceTokenizerWrapper():\n",
    "  def __init__(self, path = \"ar.model\"):\n",
    "    tokenizer = SentencePieceProcessor()\n",
    "    tokenizer.load(path)\n",
    "    self.tokenizer = tokenizer\n",
    "    self.eot_id = tokenizer.vocab_size()\n",
    "    self.eot_token = END_OF_TEXT\n",
    "    self.vocab_size = tokenizer.vocab_size() + 1\n",
    "    \n",
    "  def decode_ids(self, ids):\n",
    "    if isinstance(ids[0], int):\n",
    "      ids = [ids]\n",
    "    ids = np.array(ids).astype(int)\n",
    "    tokens = []\n",
    "    for x in ids:\n",
    "      if self.eot_id in x:\n",
    "        x = x[:np.not_equal(x, self.eot_id).argmin()]\n",
    "      tokens.append(x.tolist())\n",
    "    return tokens\n",
    "  \n",
    "  def decode(self, ids):\n",
    "    tokens = self.decode_ids(ids)\n",
    "    tokens = [self.tokenizer.decode_ids(x) for x in tokens]\n",
    "    return tokens\n",
    "    \n",
    "  def __call__(self, sentences, maxlen = MAX_SEQLEN, add_eot = False):\n",
    "    if isinstance(sentences, str):\n",
    "      sentences = [sentences]\n",
    "      \n",
    "    B  = len(sentences)\n",
    "    tokens = [self.tokenizer.encode_as_ids(t) for t in sentences]\n",
    "    tokens_lenghts = [len(x) for x in tokens]\n",
    "    \n",
    "    # minus 1 because we append EOT_ID\n",
    "    max_len_can_have = MAX_SEQLEN - 1 if add_eot else MAX_SEQLEN\n",
    "    max_len = min(max(tokens_lenghts), max_len_can_have)\n",
    "    tokenized = np.ones((B, max_len)) * self.eot_id\n",
    "    for i,t in enumerate(tokens):\n",
    "      tokenized[i, :tokens_lenghts[i]] = tokens[i][:max_len]\n",
    "    \n",
    "    if add_eot:\n",
    "      tokenized = np.hstack([tokenized, np.ones((B, 1)) * self.eot_id])\n",
    "    input_ids = tokenized.astype(int)\n",
    "    \n",
    "    attention_mask = np.zeros((B, max_len + 1 if add_eot else max_len))\n",
    "    for i,l in enumerate(tokens_lenghts):\n",
    "      attention_mask[i, :l+1] = 1\n",
    "    attention_mask = attention_mask.astype(int)\n",
    "    return {\n",
    "      \"input_ids\": torch.from_numpy(input_ids).long(),\n",
    "      \"attention_mask\": torch.from_numpy(attention_mask).long()\n",
    "    }\n",
    "    \n",
    "  \n",
    "tokenizer = SentencePieceTokenizerWrapper()\n",
    "print(\"Vocab Size:\", tokenizer.vocab_size)\n",
    "sample = tokenizer([\"Unless you have this jam\", \"life is? hard\"], add_eot = True)\n",
    "print(sample)\n",
    "print(tokenizer.decode_ids([123, 423, 342, 123, 123]))"
   ]
  },
  {
   "cell_type": "code",
   "execution_count": 9,
   "metadata": {},
   "outputs": [
    {
     "data": {
      "text/plain": [
       "{'input_ids': torch.Size([10, 175]), 'attention_mask': torch.Size([10, 175])}"
      ]
     },
     "execution_count": 9,
     "metadata": {},
     "output_type": "execute_result"
    }
   ],
   "source": [
    "tokenized = tokenizer(data[\"review_body\"])\n",
    "{k:v.size() for k,v in tokenized.items()}"
   ]
  },
  {
   "cell_type": "code",
   "execution_count": 10,
   "metadata": {},
   "outputs": [
    {
     "data": {
      "text/plain": [
       "[1, 1, 1, 1, 1, 1, 1, 1, 1, 1]"
      ]
     },
     "execution_count": 10,
     "metadata": {},
     "output_type": "execute_result"
    }
   ],
   "source": [
    "data[\"stars\"]"
   ]
  },
  {
   "cell_type": "code",
   "execution_count": 11,
   "metadata": {},
   "outputs": [
    {
     "name": "stdout",
     "output_type": "stream",
     "text": [
      "Max token ids: tensor([1828, 1999, 1999, 1999, 1999, 1999, 1999, 1999, 1999, 1999])\n",
      "Max token ids - 1: tensor([  6,  66,   3,  43, 192,   3,   3,   3,   3,   3])\n"
     ]
    }
   ],
   "source": [
    "# Max token ids should be a sequence of [ ... 50256 ... ]\n",
    "# and (Max token ids - 1) should not contain 50256 in output list\n",
    "print(\"Max token ids:\", tokenized[\"input_ids\"][torch.arange(10), tokenized[\"input_ids\"].argmax(-1)])\n",
    "print(\"Max token ids - 1:\", tokenized[\"input_ids\"][torch.arange(10), tokenized[\"input_ids\"].argmax(-1) - 1])"
   ]
  },
  {
   "cell_type": "code",
   "execution_count": 12,
   "metadata": {},
   "outputs": [
    {
     "data": {
      "text/plain": [
       "([[3], [66], [3], [43], [192], [3], [3], [3], [3], [3]],\n",
       " ['.', 'me', '.', '!', ')', '.', '.', '.', '.', '.'])"
      ]
     },
     "execution_count": 12,
     "metadata": {},
     "output_type": "execute_result"
    }
   ],
   "source": [
    "tokenizer.decode_ids([[3],[66],[3],[43],[192],[3],[3],[3],[3],[3]]), tokenizer.decode([[3],[66],[3],[43],[192],[3],[3],[3],[3],[3]])"
   ]
  },
  {
   "cell_type": "markdown",
   "metadata": {},
   "source": [
    "# Test Setup\n",
    "\n",
    "There are 2 different methods of testing:\n",
    "1. When model is trained directly on the stars classification at the end of the sequence using `<|endoftext|>` tag\n",
    "2. When model is first trained as a GPT to predict next token and then body is frozen and trained for classification\n",
    "\n",
    "This is how the evaluation works:\n",
    "1. We train network on the `train` split\n",
    "2. We take the `test` split and pass it through the classification head:\n",
    "  - In either case the final accuracy will be compared using `<|endoftext|>` tag\n",
    "  - However we will pass all the tokens through the model and store results for evaluation\n",
    "\n",
    "### Method 1\n",
    "\n",
    "In this method we directly train a classifier for stars"
   ]
  },
  {
   "cell_type": "code",
   "execution_count": 12,
   "metadata": {},
   "outputs": [
    {
     "data": {
      "text/plain": [
       "1479301"
      ]
     },
     "execution_count": 12,
     "metadata": {},
     "output_type": "execute_result"
    }
   ],
   "source": [
    "class GPT2ClassifierModel(nn.Module):\n",
    "  def __init__(self):\n",
    "    super().__init__()\n",
    "    model_config = GPT2Config(\n",
    "      vocab_size=tokenizer.vocab_size,\n",
    "      n_positions=MAX_SEQLEN,\n",
    "      n_ctx=MAX_SEQLEN,\n",
    "      n_embd=128,\n",
    "      n_layer=6,\n",
    "      n_head=2,\n",
    "\n",
    "      num_labels = 5,\n",
    "      pad_token_id = tokenizer.eot_id,\n",
    "      bos_token_id = tokenizer.eot_id,\n",
    "      eos_token_id = tokenizer.eot_id,\n",
    "    )\n",
    "    self.body = GPT2Model(model_config)\n",
    "    self.linear = self.get_linear(model_config)\n",
    "    self.model_config = model_config\n",
    "    \n",
    "  def get_linear(self, model_config):\n",
    "    # define linear and initialise weights\n",
    "    linear = nn.Linear(model_config.n_embd, model_config.num_labels)\n",
    "    linear.weight.requires_grad = False\n",
    "    linear.bias.requires_grad = False\n",
    "    linear.weight.normal_(std = 0.02)\n",
    "    linear.bias.zero_()\n",
    "    linear.weight.requires_grad = True\n",
    "    linear.bias.requires_grad = True\n",
    "    return linear\n",
    "  \n",
    "  def num_parameters(self):\n",
    "    return sum(p.numel() for p in self.parameters())\n",
    "    \n",
    "  def forward(self, input_data):\n",
    "    B, N = input_data[\"input_ids\"].shape\n",
    "    eot_tokens = input_data[\"input_ids\"].argmax(-1)\n",
    "    output = self.body(**input_data).last_hidden_state\n",
    "    eot_logits = output[torch.arange(B), eot_tokens]\n",
    "    logits = self.linear(eot_logits)\n",
    "    return logits\n",
    "\n",
    "only_classification_model = GPT2ClassifierModel()\n",
    "only_classification_model.num_parameters()"
   ]
  },
  {
   "cell_type": "code",
   "execution_count": 14,
   "metadata": {},
   "outputs": [],
   "source": [
    "only_classification_model = only_classification_model.to(device)\n",
    "optim = torch.optim.Adam(only_classification_model.parameters(), lr = LEARNING_RATE, weight_decay=WEIGHT_DECAY)\n",
    "dl = DataLoader(\n",
    "  amazon_reviews[\"train\"],\n",
    "  shuffle = True,\n",
    "  batch_size = BATCH_SIZE,\n",
    ")\n",
    "\n",
    "\n",
    "def one_iteration(raw_data, mode = \"train\"):\n",
    "  input_data = tokenizer(raw_data[\"review_body\"], add_eot = True)\n",
    "  input_data = {k:v.to(device) for k,v in input_data.items()}\n",
    "  targets = raw_data[\"stars\"].to(device).long() - 1 # \n",
    "  # pass through the network\n",
    "  is_train = mode == \"train\"\n",
    "  with torch.set_grad_enabled(is_train):\n",
    "    logits = only_classification_model(input_data)\n",
    "    output = []\n",
    "  \n",
    "    if is_train:\n",
    "      loss = F.cross_entropy(logits, targets)\n",
    "\n",
    "      # train network\n",
    "      optim.zero_grad()\n",
    "      loss.backward()\n",
    "      optim.step()\n",
    "      \n",
    "      output = [loss.item()]\n",
    "      \n",
    "    acc = accuracy(logits.detach().to(\"cpu\"), targets.to(\"cpu\"))\n",
    "    output = [acc, logits] + output\n",
    "    return output"
   ]
  },
  {
   "cell_type": "code",
   "execution_count": 16,
   "metadata": {},
   "outputs": [
    {
     "name": "stderr",
     "output_type": "stream",
     "text": [
      "Loss: 1.090 | Acc.: 0.536: 100%|██████████| 16000/16000 [16:40<00:00, 15.99it/s]\n"
     ]
    }
   ],
   "source": [
    "# Train the network\n",
    "optim.zero_grad()\n",
    "train_losses_over_steps = [-1]\n",
    "train_acc_over_steps = [-1]\n",
    "pbar = trange(NUM_TRAIN_STEPS)\n",
    "for _i_step in pbar:\n",
    "  pbar.set_description(\n",
    "    f\"Loss: {np.mean(train_losses_over_steps[-50:]):.3f} | Acc.: {np.mean(train_acc_over_steps[-50:]):.3f}\"\n",
    "  )\n",
    "\n",
    "  # get data\n",
    "  raw_data = next(iter(dl))\n",
    "  output = one_iteration(raw_data)\n",
    "  train_losses_over_steps.append(output[-1])\n",
    "  train_acc_over_steps.append(output[0])"
   ]
  },
  {
   "cell_type": "code",
   "execution_count": 266,
   "metadata": {},
   "outputs": [],
   "source": [
    "torch.save(only_classification_model.state_dict(), \"./weights/m1.pt\")\n",
    "del only_classification_model"
   ]
  },
  {
   "cell_type": "code",
   "execution_count": 22,
   "metadata": {},
   "outputs": [
    {
     "data": {
      "text/plain": [
       "Text(0.5, 0, 'iteration')"
      ]
     },
     "execution_count": 22,
     "metadata": {},
     "output_type": "execute_result"
    },
    {
     "data": {
      "image/png": "[encoded data removed]",
      "text/plain": [
       "<Figure size 1152x576 with 2 Axes>"
      ]
     },
     "metadata": {
      "needs_background": "light"
     },
     "output_type": "display_data"
    }
   ],
   "source": [
    "train_losses_smooth = savgol_filter(train_losses_over_steps, 201, 7)\n",
    "train_acc_smooth = savgol_filter(train_acc_over_steps, 201, 7)\n",
    "\n",
    "f = plt.figure(figsize=(16,8))\n",
    "ax = f.add_subplot(1,2,1)\n",
    "ax.plot(train_losses_smooth)\n",
    "ax.set_yscale('log')\n",
    "ax.set_title('Smoothed Cross Entropy')\n",
    "ax.set_xlabel('iteration')\n",
    "\n",
    "ax = f.add_subplot(1,2,2)\n",
    "ax.plot(train_acc_smooth)\n",
    "ax.set_title('Smoothed Accuracy')\n",
    "ax.set_xlabel('iteration')"
   ]
  },
  {
   "cell_type": "code",
   "execution_count": 269,
   "metadata": {},
   "outputs": [
    {
     "data": {
      "text/plain": [
       "<All keys matched successfully>"
      ]
     },
     "execution_count": 269,
     "metadata": {},
     "output_type": "execute_result"
    }
   ],
   "source": [
    "only_classification_model = GPT2ClassifierModel()\n",
    "only_classification_model.load_state_dict(torch.load(\"./weights/m1.pt\"))"
   ]
  },
  {
   "cell_type": "code",
   "execution_count": 30,
   "metadata": {},
   "outputs": [],
   "source": [
    "dl = DataLoader(\n",
    "  amazon_reviews[\"test\"],\n",
    "  shuffle = True,\n",
    "  batch_size = BATCH_SIZE,\n",
    ")\n",
    "only_classification_model.eval()\n",
    "test_prediction = []\n",
    "test_label = []\n",
    "for x in dl:\n",
    "  logits = one_iteration(x, \"test\")[1]\n",
    "  targets = x[\"stars\"].to(device).long() - 1 # \n",
    "  \n",
    "  test_prediction.extend(logits.argmax(-1).tolist())\n",
    "  test_label.extend(targets.tolist())"
   ]
  },
  {
   "cell_type": "code",
   "execution_count": 58,
   "metadata": {},
   "outputs": [
    {
     "data": {
      "text/plain": [
       "<sklearn.metrics._plot.confusion_matrix.ConfusionMatrixDisplay at 0x1550fafec910>"
      ]
     },
     "execution_count": 58,
     "metadata": {},
     "output_type": "execute_result"
    },
    {
     "data": {
      "image/png": "[encoded data removed]",
      "text/plain": [
       "<Figure size 432x288 with 1 Axes>"
      ]
     },
     "metadata": {
      "needs_background": "light"
     },
     "output_type": "display_data"
    }
   ],
   "source": [
    "cm = confusion_matrix(test_label, test_prediction).astype(float)\n",
    "cm /= np.sum(cm, axis = 1)\n",
    "disp = ConfusionMatrixDisplay(\n",
    "  confusion_matrix=cm,\n",
    "  display_labels=[f\"{i+1} stars\" for i in range(5)],\n",
    ")\n",
    "disp.plot(cmap='Blues', xticks_rotation='horizontal', colorbar = False, )"
   ]
  },
  {
   "cell_type": "markdown",
   "metadata": {},
   "source": [
    "From the above plot we can see that model is really sure at the corners but really bad at the central part of this.\n",
    "\n",
    "Next we perform token by token prediction and see how it performs."
   ]
  },
  {
   "cell_type": "code",
   "execution_count": 192,
   "metadata": {},
   "outputs": [],
   "source": [
    "BATCH_SIZE = 64\n",
    "\n",
    "dl = DataLoader(\n",
    "  amazon_reviews[\"test\"],\n",
    "  batch_size = BATCH_SIZE,\n",
    ")\n",
    "only_classification_model.eval()\n",
    "all_tokens = []\n",
    "all_tokens_max = []\n",
    "all_labels = []\n",
    "for x in dl:\n",
    "  input_data = tokenizer(x[\"review_body\"])\n",
    "  input_data = {k:v.to(device) for k,v in input_data.items()}\n",
    "  targets = x[\"stars\"].long() - 1 # \n",
    "  \n",
    "  with torch.no_grad():\n",
    "    last_hidden_state = only_classification_model.body(**input_data).last_hidden_state\n",
    "    all_token_logits = only_classification_model.linear(last_hidden_state).argmax(-1)\n",
    "    \n",
    "  # 1. log the tokens\n",
    "  this_tokens = [tokenizer.decode_ids(x)[0] for x in input_data[\"input_ids\"].tolist()]\n",
    "  this_tokens_expanded = [\n",
    "    [tokenizer.tokenizer.decode_ids([x]) for x in y]\n",
    "    for y in this_tokens\n",
    "  ]\n",
    "  all_tokens.extend(this_tokens_expanded)\n",
    "  \n",
    "  # 2. log the scores per token\n",
    "  all_token_logits = all_token_logits.cpu()\n",
    "  this_tokens_max = []\n",
    "  for i, logits in enumerate(all_token_logits):\n",
    "    max_idx = torch.ne(input_data[\"input_ids\"][i], tokenizer.eot_id).long().argmin() - 1\n",
    "    max_idx = max_idx.item()\n",
    "    this_tokens_max.append(logits[:max_idx].tolist())\n",
    "  all_tokens_max.extend(this_tokens_max)\n",
    "  \n",
    "  # 3. log the targets\n",
    "  all_labels.extend(targets.tolist())"
   ]
  },
  {
   "cell_type": "code",
   "execution_count": 193,
   "metadata": {},
   "outputs": [
    {
     "data": {
      "text/plain": [
       "(['Just',\n",
       "  'what',\n",
       "  'I',\n",
       "  'needed',\n",
       "  '!',\n",
       "  'Perfect',\n",
       "  'for',\n",
       "  'we',\n",
       "  's',\n",
       "  'ter',\n",
       "  'n',\n",
       "  'them',\n",
       "  'e',\n",
       "  'party',\n",
       "  '.'],\n",
       " ['Item', 'did', 'not', 'fit', 'my', 'car', 'properly', '.'])"
      ]
     },
     "execution_count": 193,
     "metadata": {},
     "output_type": "execute_result"
    }
   ],
   "source": [
    "all_tokens[-1], all_tokens[123]"
   ]
  },
  {
   "cell_type": "code",
   "execution_count": 194,
   "metadata": {},
   "outputs": [
    {
     "data": {
      "text/plain": [
       "([4, 4, 4, 4, 4, 4, 4, 4, 4, 4, 4, 4, 4, 4], [0, 0, 0, 0, 0, 0, 0])"
      ]
     },
     "execution_count": 194,
     "metadata": {},
     "output_type": "execute_result"
    }
   ],
   "source": [
    "all_tokens_max[-1], all_tokens_max[123]"
   ]
  },
  {
   "cell_type": "code",
   "execution_count": 195,
   "metadata": {},
   "outputs": [
    {
     "data": {
      "text/plain": [
       "(4, 0)"
      ]
     },
     "execution_count": 195,
     "metadata": {},
     "output_type": "execute_result"
    }
   ],
   "source": [
    "all_labels[-1], all_labels[123]"
   ]
  },
  {
   "cell_type": "code",
   "execution_count": 270,
   "metadata": {},
   "outputs": [
    {
     "name": "stdout",
     "output_type": "stream",
     "text": [
      "\u001b[41m \u001b[0m: 1 star \u001b[43m \u001b[0m: 2 star \u001b[46m \u001b[0m: 3 star \u001b[45m \u001b[0m: 4 star \u001b[44m \u001b[0m: 5 star\n",
      "----------------------------------------------------------------------\n",
      "\u001b[44mThey \u001b[43mwere \u001b[44mbeautiful \u001b[44mand \u001b[44mworked \u001b[44mgreat \u001b[44mfor \u001b[44mthe \u001b[44ma \u001b[44mg \u001b[44map \u001b[44me \u001b[44mitems \u001b[44mI \u001b[44mneeded \u001b[44mthem \u001b[44mfor\u001b[0m\n",
      "target -> \u001b[44m \u001b[0m: 5 star\n",
      "----------------------------------------------------------------------\n",
      "\u001b[44mI \u001b[41mdid \u001b[41mnot \u001b[41morder \u001b[41mthis \u001b[41mapp \u001b[41m. \u001b[41mplease \u001b[41mremove \u001b[41mit\u001b[0m\n",
      "target -> \u001b[41m \u001b[0m: 1 star\n",
      "----------------------------------------------------------------------\n",
      "\u001b[41mThis \u001b[44mcase \u001b[44mprotect \u001b[44ms \u001b[44mpretty \u001b[44mwell \u001b[44m. \u001b[44mBought \u001b[44mit \u001b[44mfor \u001b[44mmy \u001b[44mson \u001b[44m' \u001b[44ms \u001b[44m6 \u001b[44mx \u001b[44mand \u001b[44mhe \u001b[44mlike \u001b[44ms \u001b[44mit\u001b[0m\n",
      "target -> \u001b[45m \u001b[0m: 4 star\n",
      "----------------------------------------------------------------------\n",
      "\u001b[44mI \u001b[41mbought \u001b[44mthe \u001b[44msurprise \u001b[44mshirt \u001b[44mfor \u001b[45mgra \u001b[44mnd \u001b[46mpar \u001b[44ment \u001b[46ms \u001b[44m, \u001b[46mbut \u001b[46mwas \u001b[43msent \u001b[43mone \u001b[43mfor \u001b[43man \u001b[46ma \u001b[46mun \u001b[43mt \u001b[43m. \u001b[46mI \u001b[43mwas \u001b[43mplan \u001b[43mning \u001b[43mon \u001b[43msu \u001b[43mr \u001b[46mp \u001b[41mri \u001b[43ms \u001b[46ming \u001b[43mthem \u001b[46mwith \u001b[46mthis \u001b[41mshirt \u001b[43mto \u001b[41mm \u001b[46mor \u001b[43mr \u001b[43mow \u001b[43min \u001b[43ma \u001b[41mcute \u001b[43mway \u001b[43m, \u001b[46mbut \u001b[43mnow \u001b[46mI \u001b[46mhave \u001b[46mto \u001b[46mpost \u001b[46mp \u001b[46mone \u001b[46mthe \u001b[46mget \u001b[46mtogether \u001b[43muntil \u001b[46mI \u001b[43mreceive \u001b[43mthe \u001b[43mcorrect \u001b[43mitem \u001b[41msent \u001b[41mhope \u001b[41mful \u001b[41mly \u001b[41mright \u001b[43mthis \u001b[41mtime\u001b[0m\n",
      "target -> \u001b[41m \u001b[0m: 1 star\n",
      "----------------------------------------------------------------------\n",
      "\u001b[44mE \u001b[41mach \u001b[41mof \u001b[46mthe \u001b[46mmount \u001b[46ms \u001b[46mare \u001b[45msturdy \u001b[44mand \u001b[44measy \u001b[44mto \u001b[44muse \u001b[44m. \u001b[45mHowever \u001b[45m, \u001b[45mthe \u001b[45monly \u001b[45mone \u001b[45mthat \u001b[45mwill \u001b[45mwork \u001b[45mwith \u001b[45mmy \u001b[45mG \u001b[45mal \u001b[45ma \u001b[45mx \u001b[45my \u001b[45m9 \u001b[45mPlus \u001b[45min \u001b[45man \u001b[45mO \u001b[45mt \u001b[45mter \u001b[46mB \u001b[45mo \u001b[45mx \u001b[46mCo \u001b[46mmm \u001b[46mut \u001b[46mer \u001b[46mcase \u001b[46mwas \u001b[46mthe \u001b[46mwi \u001b[46mnd \u001b[46ms \u001b[45mhi \u001b[46me \u001b[46mld \u001b[46mmount \u001b[46m. \u001b[46mThe \u001b[45mphone \u001b[45mfits \u001b[45min \u001b[45mthe \u001b[45mholder \u001b[46m, \u001b[45mbut \u001b[45mthe \u001b[45mother \u001b[45mmount \u001b[45ms \u001b[45mcannot \u001b[46msupport \u001b[45mthe \u001b[46mweight \u001b[46m. \u001b[45mI \u001b[45mgave \u001b[45mit \u001b[46mto \u001b[45mmy \u001b[46mbo \u001b[45my \u001b[45mf \u001b[45mri \u001b[45mend \u001b[45mfor \u001b[45mhis \u001b[45msmall \u001b[46mphone \u001b[45mand \u001b[45mit \u001b[45mis \u001b[45mperfect\u001b[0m\n",
      "target -> \u001b[45m \u001b[0m: 4 star\n"
     ]
    }
   ],
   "source": [
    "print(get_colored_help())\n",
    "for _ in range(5):\n",
    "  print(\"-\" * 70)\n",
    "  idx = np.random.randint(len(all_tokens))\n",
    "  print(get_colored_text(all_tokens[idx], all_tokens_max[idx], False))\n",
    "  print(\"target ->\", color_names[all_labels[idx]])\n",
    "  "
   ]
  },
  {
   "cell_type": "markdown",
   "metadata": {},
   "source": [
    "From the above you can see beautiful visualisation of the text and corresponding scores.\n",
    "\n",
    "### Method 2\n",
    "\n",
    "In this method we first train a GPT and then finetune by replacing the lm-head."
   ]
  },
  {
   "cell_type": "code",
   "execution_count": 49,
   "metadata": {},
   "outputs": [],
   "source": [
    "# copying config from above\n",
    "gpt_lm_config = GPT2Config(\n",
    "  vocab_size=tokenizer.vocab_size,\n",
    "  n_positions=MAX_SEQLEN,\n",
    "  n_ctx=MAX_SEQLEN,\n",
    "  n_embd=128,\n",
    "  n_layer=6,\n",
    "  n_head=2,\n",
    "\n",
    "  num_labels = 5,\n",
    "  pad_token_id = tokenizer.eot_id,\n",
    "  bos_token_id = tokenizer.eot_id,\n",
    "  eos_token_id = tokenizer.eot_id,\n",
    ")\n",
    "\n",
    "\n",
    "class GPT2(GPT2LMHeadModel):\n",
    "  def __init__(self, config):\n",
    "    super().__init__(config)\n",
    "    \n",
    "  def forward(self, input_ids, attention_mask = None, labels = None, only_hidden_states = False, **kwargs):\n",
    "    B, S = input_ids.shape\n",
    "    transformer_outputs = self.transformer(input_ids, attention_mask = attention_mask, **kwargs)\n",
    "    hidden_states = transformer_outputs[0]\n",
    "    if only_hidden_states:\n",
    "      return hidden_states\n",
    "    lm_logits = self.lm_head(hidden_states)\n",
    "    loss = None\n",
    "    if labels != None:\n",
    "      # loss only non-pad locations\n",
    "      non_pad = torch.ne(input_ids, tokenizer.eot_id)[:, :-1].reshape(-1).to(device) # [B * S,]\n",
    "\n",
    "      # Shift so that tokens < n predict n\n",
    "      shift_logits = lm_logits[..., :-1, :].contiguous()\n",
    "      shift_labels = labels[..., 1:].contiguous()\n",
    "      # Flatten the tokens\n",
    "      loss_fct = torch.nn.CrossEntropyLoss(reduction=\"none\")\n",
    "      loss = loss_fct(\n",
    "        shift_logits.view(-1, shift_logits.size(-1)),\n",
    "        shift_labels.view(-1)\n",
    "      )\n",
    "      loss = loss[non_pad].mean()\n",
    "    return CausalLMOutputWithCrossAttentions(\n",
    "      logits = lm_logits,\n",
    "      loss = loss\n",
    "    )\n",
    "\n",
    "gpt2 = GPT2(gpt_lm_config)"
   ]
  },
  {
   "cell_type": "code",
   "execution_count": 14,
   "metadata": {},
   "outputs": [
    {
     "name": "stdout",
     "output_type": "stream",
     "text": [
      "odict_keys(['loss', 'logits'])\n",
      "torch.Size([1, 6, 2000])\n",
      "tensor(7.4591, grad_fn=<MeanBackward0>)\n"
     ]
    }
   ],
   "source": [
    "output = gpt2(\n",
    "  input_ids = torch.Tensor([0, 312, 23, 1234, 1999, 1999]).long().unsqueeze(0),\n",
    "  labels = torch.Tensor([0, 312, 23, 1234, 1999, 1999]).long().unsqueeze(0)\n",
    ")\n",
    "print(output.keys())\n",
    "print(output.logits.shape)\n",
    "print(output.loss)"
   ]
  },
  {
   "cell_type": "code",
   "execution_count": 15,
   "metadata": {},
   "outputs": [
    {
     "data": {
      "text/plain": [
       "tensor([[1510,  447,    3,  264,  165,   94,  100,  304,   18,  149,   41,  199,\n",
       "          100,  655]])"
      ]
     },
     "execution_count": 15,
     "metadata": {},
     "output_type": "execute_result"
    }
   ],
   "source": [
    "input_data = tokenizer(\"Arrived broken. Manufacturer defect\", add_eot = False)\n",
    "beam_outputs = gpt2.generate(\n",
    "  input_ids = input_data[\"input_ids\"],\n",
    "  max_length = 25,\n",
    "  do_sample = True,\n",
    "  top_k=40,\n",
    "  top_p=0.95,\n",
    "  num_return_sequences=4,\n",
    "  early_stopping = True\n",
    ").cpu().numpy()\n",
    "beam_strs = tokenizer.decode(beam_outputs)\n",
    "\n",
    "input_data[\"input_ids\"]"
   ]
  },
  {
   "cell_type": "code",
   "execution_count": 16,
   "metadata": {},
   "outputs": [
    {
     "data": {
      "text/plain": [
       "['Arrived broken. Manufacturer defect4 stretch daily speaker Pretty Much You 3 pieces thin summer',\n",
       " 'Arrived broken. Manufacturer defect packaging bathroom tree reason dutyU Only need chew need at',\n",
       " 'Arrived broken. Manufacturer defect To flash do leatherped problems Had going00 everywhere customer',\n",
       " 'Arrived broken. Manufacturer defectectma larger leather crazyside double version version can Had']"
      ]
     },
     "execution_count": 16,
     "metadata": {},
     "output_type": "execute_result"
    }
   ],
   "source": [
    "tokenizer.decode(beam_outputs.tolist())"
   ]
  },
  {
   "cell_type": "code",
   "execution_count": 83,
   "metadata": {},
   "outputs": [],
   "source": [
    "gpt2 = gpt2.to(device)\n",
    "optim = torch.optim.Adam(gpt2.parameters(), lr = LEARNING_RATE, weight_decay=WEIGHT_DECAY)\n",
    "dl = DataLoader(\n",
    "  amazon_reviews[\"train\"],\n",
    "  shuffle = True,\n",
    "  batch_size = BATCH_SIZE,\n",
    ")\n",
    "\n",
    "\n",
    "def one_iteration(raw_data, mode = \"train\"):\n",
    "  input_data = tokenizer(raw_data[\"review_body\"], add_eot=False)\n",
    "  input_data = {k:v.to(device) for k,v in input_data.items()}\n",
    "  targets = raw_data[\"stars\"].to(device).long() - 1 # \n",
    "  \n",
    "  # pass through the network\n",
    "  is_train = mode == \"train\"\n",
    "  gpt2.train(is_train) # whether it is in eval or training mode\n",
    "  with torch.set_grad_enabled(is_train):\n",
    "    out = gpt2(**input_data, labels = input_data[\"input_ids\"])\n",
    "    output = []\n",
    "  \n",
    "    if is_train:\n",
    "      # train network\n",
    "      optim.zero_grad()\n",
    "      out.loss.backward()\n",
    "      optim.step()\n",
    "    output = [out.logits, out.loss.item()]\n",
    "    return output\n",
    "  \n",
    "def generate_samples():\n",
    "  gpt2.cpu()\n",
    "  gpt2.eval()\n",
    "  input_data = tokenizer(\"Arrived broken. Manufacturer defect. Two of the legs of the base were not\")\n",
    "  beam_outputs = gpt2.generate(\n",
    "    input_ids = input_data[\"input_ids\"],\n",
    "    max_length = 30,\n",
    "    do_sample = True,\n",
    "    top_k=40,\n",
    "    top_p=0.95,\n",
    "    num_return_sequences=6\n",
    "  ).cpu().numpy()\n",
    "  beam_strs = tokenizer.decode(beam_outputs)\n",
    "  return beam_strs"
   ]
  },
  {
   "cell_type": "code",
   "execution_count": 18,
   "metadata": {
    "scrolled": true
   },
   "outputs": [
    {
     "name": "stderr",
     "output_type": "stream",
     "text": [
      "Loss: 5.467:   0%|          | 3/16000 [00:00<33:59,  7.85it/s] "
     ]
    },
    {
     "name": "stdout",
     "output_type": "stream",
     "text": [
      "--- Iteration: 0 ---\n",
      "Arrived broken. Manufacturer defect. Two of the legs of the base were not nicely print measure blanketctor\n",
      "Arrived broken. Manufacturer defect. Two of the legs of the base were not weird pri tooward thin\n",
      "Arrived broken. Manufacturer defect. Two of the legs of the base were notv package lightweight bathroom comment\n",
      "Arrived broken. Manufacturer defect. Two of the legs of the base were not Never separate0 Fast basically\n",
      "Arrived broken. Manufacturer defect. Two of the legs of the base were not instead list appreciate effect glad\n",
      "Arrived broken. Manufacturer defect. Two of the legs of the base were not separate take odd the Does\n"
     ]
    },
    {
     "name": "stderr",
     "output_type": "stream",
     "text": [
      "Loss: 5.854:  17%|█▋        | 2669/16000 [02:54<16:10, 13.74it/s]"
     ]
    },
    {
     "name": "stdout",
     "output_type": "stream",
     "text": [
      "--- Iteration: 2666 ---\n",
      "Arrived broken. Manufacturer defect. Two of the legs of the base were not buting toinge\n",
      "Arrived broken. Manufacturer defect. Two of the legs of the base were not you  I is have\n",
      "Arrived broken. Manufacturer defect. Two of the legs of the base were not in the care a\n",
      "Arrived broken. Manufacturer defect. Two of the legs of the base were not the sameed was so\n",
      "Arrived broken. Manufacturer defect. Two of the legs of the base were not you is they was.\n",
      "Arrived broken. Manufacturer defect. Two of the legs of the base were not buts! I \n"
     ]
    },
    {
     "name": "stderr",
     "output_type": "stream",
     "text": [
      "Loss: 5.339:  33%|███▎      | 5335/16000 [05:49<13:21, 13.31it/s]"
     ]
    },
    {
     "name": "stdout",
     "output_type": "stream",
     "text": [
      "--- Iteration: 5332 ---\n",
      "Arrived broken. Manufacturer defect. Two of the legs of the base were not to not to get my\n",
      "Arrived broken. Manufacturer defect. Two of the legs of the base were not a ding and\n",
      "Arrived broken. Manufacturer defect. Two of the legs of the base were not a the price, as\n",
      "Arrived broken. Manufacturer defect. Two of the legs of the base were not very disappointed it. Very\n",
      "Arrived broken. Manufacturer defect. Two of the legs of the base were not the product.\n",
      "Arrived broken. Manufacturer defect. Two of the legs of the base were not not ados\n"
     ]
    },
    {
     "name": "stderr",
     "output_type": "stream",
     "text": [
      "Loss: 5.101:  50%|█████     | 8000/16000 [08:43<09:59, 13.34it/s]"
     ]
    },
    {
     "name": "stdout",
     "output_type": "stream",
     "text": [
      "--- Iteration: 7998 ---\n",
      "Arrived broken. Manufacturer defect. Two of the legs of the base were not ading a g\n",
      "Arrived broken. Manufacturer defect. Two of the legs of the base were not so you need, it\n",
      "Arrived broken. Manufacturer defect. Two of the legs of the base were not the picture on the one\n",
      "Arrived broken. Manufacturer defect. Two of the legs of the base were not have a few bur\n",
      "Arrived broken. Manufacturer defect. Two of the legs of the base were not on the case it will\n",
      "Arrived broken. Manufacturer defect. Two of the legs of the base were not very great.\n"
     ]
    },
    {
     "name": "stderr",
     "output_type": "stream",
     "text": [
      "Loss: 4.961:  67%|██████▋   | 10667/16000 [11:37<06:19, 14.07it/s]"
     ]
    },
    {
     "name": "stdout",
     "output_type": "stream",
     "text": [
      "--- Iteration: 10664 ---\n",
      "Arrived broken. Manufacturer defect. Two of the legs of the base were not as good time I thought\n",
      "Arrived broken. Manufacturer defect. Two of the legs of the base were not very small and a f\n",
      "Arrived broken. Manufacturer defect. Two of the legs of the base were not too in the case.\n",
      "Arrived broken. Manufacturer defect. Two of the legs of the base were not buy it is a few\n",
      "Arrived broken. Manufacturer defect. Two of the legs of the base were not great.\n",
      "Arrived broken. Manufacturer defect. Two of the legs of the base were not have to return, I\n"
     ]
    },
    {
     "name": "stderr",
     "output_type": "stream",
     "text": [
      "Loss: 4.858:  83%|████████▎ | 13334/16000 [14:31<03:05, 14.37it/s]"
     ]
    },
    {
     "name": "stdout",
     "output_type": "stream",
     "text": [
      "--- Iteration: 13330 ---\n",
      "Arrived broken. Manufacturer defect. Two of the legs of the base were not a lot. Will not\n",
      "Arrived broken. Manufacturer defect. Two of the legs of the base were not very well.\n",
      "Arrived broken. Manufacturer defect. Two of the legs of the base were not not the color.\n",
      "Arrived broken. Manufacturer defect. Two of the legs of the base were not a bit well. My\n",
      "Arrived broken. Manufacturer defect. Two of the legs of the base were not to a lot.\n",
      "Arrived broken. Manufacturer defect. Two of the legs of the base were not. This product was the\n"
     ]
    },
    {
     "name": "stderr",
     "output_type": "stream",
     "text": [
      "Loss: 4.771: 100%|██████████| 16000/16000 [17:25<00:00, 15.30it/s]"
     ]
    },
    {
     "name": "stdout",
     "output_type": "stream",
     "text": [
      "--- Iteration: 15996 ---\n",
      "Arrived broken. Manufacturer defect. Two of the legs of the base were not worth the ste.\n",
      "Arrived broken. Manufacturer defect. Two of the legs of the base were not a lot of the color\n",
      "Arrived broken. Manufacturer defect. Two of the legs of the base were not as you. I can\n",
      "Arrived broken. Manufacturer defect. Two of the legs of the base were not.\n",
      "Arrived broken. Manufacturer defect. Two of the legs of the base were notek at the g\n",
      "Arrived broken. Manufacturer defect. Two of the legs of the base were not a new box. So\n"
     ]
    },
    {
     "name": "stderr",
     "output_type": "stream",
     "text": [
      "\n"
     ]
    },
    {
     "name": "stdout",
     "output_type": "stream",
     "text": [
      "--- Iteration: 15999 ---\n",
      "Arrived broken. Manufacturer defect. Two of the legs of the base were not. The same quality is\n",
      "Arrived broken. Manufacturer defect. Two of the legs of the base were not so a good time\n",
      "Arrived broken. Manufacturer defect. Two of the legs of the base were not a teh\n",
      "Arrived broken. Manufacturer defect. Two of the legs of the base were not a little long.\n",
      "Arrived broken. Manufacturer defect. Two of the legs of the base were not in the money.\n",
      "Arrived broken. Manufacturer defect. Two of the legs of the base were notetufe\n"
     ]
    }
   ],
   "source": [
    "SAMPLE_EVERY = NUM_TRAIN_STEPS // 6\n",
    "\n",
    "# Train the network\n",
    "optim.zero_grad()\n",
    "train_losses_over_steps = [-1]\n",
    "pbar = trange(NUM_TRAIN_STEPS)\n",
    "for _i_step in pbar:\n",
    "  pbar.set_description(f\"Loss: {np.mean(train_losses_over_steps[-50:]):.3f}\")\n",
    "\n",
    "  # get data\n",
    "  raw_data = next(iter(dl))\n",
    "  output = one_iteration(raw_data)\n",
    "  train_losses_over_steps.append(output[-1])\n",
    "  \n",
    "  if _i_step % SAMPLE_EVERY == 0:\n",
    "    beam_strs = generate_samples()\n",
    "    print(f\"--- Iteration: {_i_step} ---\")\n",
    "    print(\"\\n\".join(beam_strs))\n",
    "    gpt2.to(device)\n",
    "    gpt2.train()\n",
    "\n",
    "beam_strs = generate_samples()\n",
    "print(f\"--- Iteration: {_i_step} ---\")\n",
    "print(\"\\n\".join(beam_strs))"
   ]
  },
  {
   "cell_type": "code",
   "execution_count": 25,
   "metadata": {},
   "outputs": [],
   "source": [
    "torch.save(gpt2.state_dict(), \"./weights/m2_gpt.pt\")\n",
    "del gpt2"
   ]
  },
  {
   "cell_type": "code",
   "execution_count": 24,
   "metadata": {},
   "outputs": [
    {
     "data": {
      "text/plain": [
       "Text(0.5, 0, 'iteration')"
      ]
     },
     "execution_count": 24,
     "metadata": {},
     "output_type": "execute_result"
    },
    {
     "data": {
      "image/png": "[encoded data removed]",
      "text/plain": [
       "<Figure size 1152x576 with 1 Axes>"
      ]
     },
     "metadata": {
      "needs_background": "light"
     },
     "output_type": "display_data"
    }
   ],
   "source": [
    "train_losses_smooth = savgol_filter(train_losses_over_steps[1:], 201, 7)\n",
    "\n",
    "plt.figure(figsize=(16,8))\n",
    "plt.plot(train_losses_smooth)\n",
    "plt.title('Smoothed Cross Entropy')\n",
    "plt.xlabel('iteration')"
   ]
  },
  {
   "cell_type": "code",
   "execution_count": 81,
   "metadata": {},
   "outputs": [
    {
     "data": {
      "text/plain": [
       "<All keys matched successfully>"
      ]
     },
     "execution_count": 81,
     "metadata": {},
     "output_type": "execute_result"
    }
   ],
   "source": [
    "gpt2 = GPT2(gpt_lm_config)\n",
    "gpt2.load_state_dict(torch.load(\"./weights/m2_gpt.pt\"))"
   ]
  },
  {
   "cell_type": "code",
   "execution_count": 84,
   "metadata": {},
   "outputs": [
    {
     "name": "stdout",
     "output_type": "stream",
     "text": [
      "Test Loss: 4.720117436179632\n"
     ]
    }
   ],
   "source": [
    "dl = DataLoader(\n",
    "  amazon_reviews[\"test\"],\n",
    "  shuffle = True,\n",
    "  batch_size = BATCH_SIZE,\n",
    ")\n",
    "gpt2.eval()\n",
    "test_loss = []\n",
    "for x in dl:\n",
    "  logits, loss = one_iteration(x, \"test\")\n",
    "  test_loss.append(loss)\n",
    "  \n",
    "print('Test Loss:', np.mean(test_loss))"
   ]
  },
  {
   "cell_type": "markdown",
   "metadata": {},
   "source": [
    "Now from the above generated samples you can see that it does indeed learn something and the loss does decrease as expected. Also this model has not overfit to the training data as test loss is good.\n",
    "\n",
    "Next step is fine-tuning the model and seeing how it performs."
   ]
  },
  {
   "cell_type": "code",
   "execution_count": 85,
   "metadata": {},
   "outputs": [],
   "source": [
    "class GPT2FineTuned(nn.Module):\n",
    "  def __init__(self, gpt2, num_classes = 5):\n",
    "    super().__init__()\n",
    "    self.model_config = gpt2.config\n",
    "    self.body = gpt2\n",
    "    self.linear = nn.Linear(self.model_config.n_embd, num_classes)\n",
    "    \n",
    "    for p in self.body.parameters():\n",
    "      p.requires_grad = False\n",
    "    \n",
    "  @torch.no_grad()\n",
    "  def pass_through_body(self, input_data):\n",
    "    self.body.eval()\n",
    "    return self.body(**input_data, only_hidden_states = True) # output = logits\n",
    "    \n",
    "  def num_parameters(self):\n",
    "    return sum(p.numel() for p in self.parameters())\n",
    "    \n",
    "  def forward(self, input_data):\n",
    "    B, N = input_data[\"input_ids\"].shape\n",
    "    eot_tokens = input_data[\"input_ids\"].argmax(-1)\n",
    "    output = self.pass_through_body(input_data)\n",
    "    eot_logits = output[torch.arange(B), eot_tokens]\n",
    "    logits = self.linear(eot_logits)\n",
    "    return logits\n",
    "  \n",
    "  \n",
    "gpt2classifier = GPT2FineTuned(gpt2)\n",
    "gpt2classifier = gpt2classifier.to(device)"
   ]
  },
  {
   "cell_type": "code",
   "execution_count": 86,
   "metadata": {},
   "outputs": [],
   "source": [
    "input_data = tokenizer(raw_data[\"review_body\"], add_eot=False)\n",
    "input_data = {k:v.to(device) for k,v in input_data.items()}"
   ]
  },
  {
   "cell_type": "code",
   "execution_count": 87,
   "metadata": {},
   "outputs": [
    {
     "data": {
      "text/plain": [
       "torch.Size([64, 5])"
      ]
     },
     "execution_count": 87,
     "metadata": {},
     "output_type": "execute_result"
    }
   ],
   "source": [
    "gpt2classifier(input_data).shape"
   ]
  },
  {
   "cell_type": "code",
   "execution_count": 88,
   "metadata": {},
   "outputs": [],
   "source": [
    "# only need to train new head parameters\n",
    "optim = torch.optim.Adam(gpt2classifier.linear.parameters(), lr = LEARNING_RATE, weight_decay=WEIGHT_DECAY)\n",
    "dl = DataLoader(\n",
    "  amazon_reviews[\"train\"],\n",
    "  shuffle = True,\n",
    "  batch_size = BATCH_SIZE,\n",
    ")\n",
    "\n",
    "\n",
    "def one_iteration(raw_data, mode = \"train\"):\n",
    "  input_data = tokenizer(raw_data[\"review_body\"], add_eot=True)\n",
    "  input_data = {k:v.to(device) for k,v in input_data.items()}\n",
    "  targets = raw_data[\"stars\"].to(device).long() - 1 # \n",
    "  \n",
    "  # pass through the network\n",
    "  is_train = mode == \"train\"\n",
    "  gpt2.train(is_train) # whether it is in eval or training mode\n",
    "  with torch.set_grad_enabled(is_train):\n",
    "    logits = gpt2classifier(input_data)\n",
    "    output = []\n",
    "    loss = F.cross_entropy(logits, targets)\n",
    "  \n",
    "    if is_train:\n",
    "      # train network\n",
    "      optim.zero_grad()\n",
    "      loss.backward()\n",
    "      optim.step()\n",
    "\n",
    "    acc = accuracy(logits.detach().to(\"cpu\"), targets.to(\"cpu\")).item()\n",
    "    output = [acc, logits, loss.item()]\n",
    "    return output\n"
   ]
  },
  {
   "cell_type": "code",
   "execution_count": 89,
   "metadata": {},
   "outputs": [
    {
     "name": "stderr",
     "output_type": "stream",
     "text": [
      "Loss: 1.529 | Acc.: 0.333: 100%|██████████| 48000/48000 [17:05<00:00, 46.80it/s]\n"
     ]
    }
   ],
   "source": [
    "# Train the network\n",
    "optim.zero_grad()\n",
    "train_losses_over_steps = [-1]\n",
    "train_acc_over_steps = [-1]\n",
    "pbar = trange(NUM_TRAIN_STEPS * 3)\n",
    "for _i_step in pbar:\n",
    "  pbar.set_description(\n",
    "    f\"Loss: {np.mean(train_losses_over_steps[-50:]):.3f} | Acc.: {np.mean(train_acc_over_steps[-50:]):.3f}\"\n",
    "  )\n",
    "\n",
    "  # get data\n",
    "  raw_data = next(iter(dl))\n",
    "  output = one_iteration(raw_data)\n",
    "  train_losses_over_steps.append(output[-1])\n",
    "  train_acc_over_steps.append(output[0])"
   ]
  },
  {
   "cell_type": "code",
   "execution_count": 91,
   "metadata": {},
   "outputs": [
    {
     "data": {
      "text/plain": [
       "Text(0.5, 0, 'iteration')"
      ]
     },
     "execution_count": 91,
     "metadata": {},
     "output_type": "execute_result"
    },
    {
     "data": {
      "image/png": "[encoded data removed]",
      "text/plain": [
       "<Figure size 1152x576 with 2 Axes>"
      ]
     },
     "metadata": {
      "needs_background": "light"
     },
     "output_type": "display_data"
    }
   ],
   "source": [
    "train_losses_smooth = savgol_filter(train_losses_over_steps[1:], 201, 7)\n",
    "train_acc_smooth = savgol_filter(train_acc_over_steps[1:], 201, 7)\n",
    "\n",
    "f = plt.figure(figsize=(16,8))\n",
    "ax = f.add_subplot(1,2,1)\n",
    "ax.plot(train_losses_smooth)\n",
    "# ax.set_yscale('log')\n",
    "ax.set_title('Smoothed Cross Entropy')\n",
    "ax.set_xlabel('iteration')\n",
    "\n",
    "ax = f.add_subplot(1,2,2)\n",
    "ax.plot(train_acc_smooth)\n",
    "ax.set_title('Smoothed Accuracy')\n",
    "ax.set_xlabel('iteration')"
   ]
  },
  {
   "cell_type": "code",
   "execution_count": 93,
   "metadata": {},
   "outputs": [],
   "source": [
    "torch.save(gpt2classifier.state_dict(), \"./weights/m2_fine_tuned.pt\")"
   ]
  },
  {
   "cell_type": "code",
   "execution_count": 94,
   "metadata": {},
   "outputs": [],
   "source": [
    "dl = DataLoader(\n",
    "  amazon_reviews[\"test\"],\n",
    "  shuffle = True,\n",
    "  batch_size = BATCH_SIZE,\n",
    ")\n",
    "gpt2classifier.eval()\n",
    "test_prediction = []\n",
    "test_label = []\n",
    "for x in dl:\n",
    "  logits = one_iteration(x, \"test\")[1]\n",
    "  targets = x[\"stars\"].to(device).long() - 1 # \n",
    "  \n",
    "  test_prediction.extend(logits.argmax(-1).tolist())\n",
    "  test_label.extend(targets.tolist())"
   ]
  },
  {
   "cell_type": "code",
   "execution_count": 97,
   "metadata": {},
   "outputs": [
    {
     "data": {
      "text/plain": [
       "<sklearn.metrics._plot.confusion_matrix.ConfusionMatrixDisplay at 0x1550d04298e0>"
      ]
     },
     "execution_count": 97,
     "metadata": {},
     "output_type": "execute_result"
    },
    {
     "data": {
      "image/png": "[encoded data removed]",
      "text/plain": [
       "<Figure size 432x288 with 1 Axes>"
      ]
     },
     "metadata": {
      "needs_background": "light"
     },
     "output_type": "display_data"
    }
   ],
   "source": [
    "cm = confusion_matrix(test_label, test_prediction).astype(float)\n",
    "cm /= np.sum(cm, axis = 1)\n",
    "disp = ConfusionMatrixDisplay(\n",
    "  confusion_matrix=cm,\n",
    "  display_labels=[f\"{i+1} stars\" for i in range(5)],\n",
    ")\n",
    "disp.plot(cmap='Blues', xticks_rotation='horizontal', colorbar = False, )"
   ]
  },
  {
   "cell_type": "markdown",
   "metadata": {},
   "source": [
    "From the above Confusion Matrix you can see that the model is very confused despite being trained for 48k steps."
   ]
  },
  {
   "cell_type": "code",
   "execution_count": 104,
   "metadata": {},
   "outputs": [],
   "source": [
    "BATCH_SIZE = 64\n",
    "\n",
    "dl = DataLoader(\n",
    "  amazon_reviews[\"test\"],\n",
    "  batch_size = BATCH_SIZE,\n",
    ")\n",
    "gpt2classifier.eval()\n",
    "all_tokens = []\n",
    "all_tokens_max = []\n",
    "all_labels = []\n",
    "for x in dl:\n",
    "  input_data = tokenizer(x[\"review_body\"])\n",
    "  input_data = {k:v.to(device) for k,v in input_data.items()}\n",
    "  targets = x[\"stars\"].long() - 1 # \n",
    "  \n",
    "  with torch.no_grad():\n",
    "    last_hidden_state = gpt2classifier.body(**input_data, only_hidden_states = True)\n",
    "    all_token_logits = gpt2classifier.linear(last_hidden_state).argmax(-1)\n",
    "    \n",
    "  # 1. log the tokens\n",
    "  this_tokens = [tokenizer.decode_ids(x)[0] for x in input_data[\"input_ids\"].tolist()]\n",
    "  this_tokens_expanded = [\n",
    "    [tokenizer.tokenizer.decode_ids([x]) for x in y]\n",
    "    for y in this_tokens\n",
    "  ]\n",
    "  all_tokens.extend(this_tokens_expanded)\n",
    "  \n",
    "  # 2. log the scores per token\n",
    "  all_token_logits = all_token_logits.cpu()\n",
    "  this_tokens_max = []\n",
    "  for i, logits in enumerate(all_token_logits):\n",
    "    max_idx = torch.ne(input_data[\"input_ids\"][i], tokenizer.eot_id).long().argmin() - 1\n",
    "    max_idx = max_idx.item()\n",
    "    this_tokens_max.append(logits[:max_idx].tolist())\n",
    "  all_tokens_max.extend(this_tokens_max)\n",
    "  \n",
    "  # 3. log the targets\n",
    "  all_labels.extend(targets.tolist())"
   ]
  },
  {
   "cell_type": "code",
   "execution_count": 105,
   "metadata": {},
   "outputs": [
    {
     "name": "stdout",
     "output_type": "stream",
     "text": [
      "\u001b[41m \u001b[0m: 1 star \u001b[43m \u001b[0m: 2 star \u001b[46m \u001b[0m: 3 star \u001b[45m \u001b[0m: 4 star \u001b[44m \u001b[0m: 5 star\n",
      "----------------------------------------------------------------------\n",
      "\u001b[44mA \u001b[43mmust \u001b[41mread \u001b[41mfor \u001b[41mall \u001b[46mwho \u001b[45mare \u001b[45mlooking \u001b[41mfor \u001b[44mtrans \u001b[44mfor \u001b[46mm \u001b[46mation \u001b[44min \u001b[44mtheir \u001b[46mthink \u001b[41ming \u001b[41m. \u001b[44mA \u001b[45mgreat \u001b[44min \u001b[46ms \u001b[44mp \u001b[46mir \u001b[46mation \u001b[44min \u001b[44mmo \u001b[41mving \u001b[41mfrom \u001b[44mf \u001b[44me \u001b[44mar \u001b[43mto \u001b[45mfree \u001b[46md \u001b[46mom \u001b[41m. \u001b[44mA \u001b[46md \u001b[46md \u001b[43mto \u001b[44myour \u001b[44ml \u001b[45mib \u001b[46mr \u001b[45mary \u001b[41mtoday\u001b[0m\n",
      "target -> \u001b[44m \u001b[0m: 5 star\n",
      "----------------------------------------------------------------------\n",
      "\u001b[44mB \u001b[45mest \u001b[46mthing \u001b[43mI \u001b[41mpurchased \u001b[41mfor \u001b[44mmy \u001b[44m \u001b[44ms \u001b[44mal \u001b[44mt \u001b[44mwa \u001b[45mter \u001b[41mtank \u001b[41m. \u001b[41m. \u001b[44mT \u001b[44mru \u001b[46ms \u001b[44mt \u001b[43myou \u001b[43mgo \u001b[46mn \u001b[45mna \u001b[41mneeds \u001b[41mthis \u001b[43mto \u001b[41mget \u001b[44ma \u001b[45mbetter \u001b[41midea \u001b[46mhow \u001b[45mmuch \u001b[44m \u001b[46ms \u001b[45mal \u001b[44mt \u001b[45mis \u001b[44min \u001b[44myour \u001b[43mtank \u001b[41m. \u001b[45mWould \u001b[45mhighly \u001b[41mrecommend \u001b[41mit\u001b[0m\n",
      "target -> \u001b[44m \u001b[0m: 5 star\n",
      "----------------------------------------------------------------------\n",
      "\u001b[43mJust \u001b[45mcan \u001b[44m' \u001b[45mt \u001b[41mget \u001b[41muse \u001b[43mto \u001b[45mthe \u001b[43mlack \u001b[41mof \u001b[43mtaste \u001b[41mwith \u001b[41mthis \u001b[44mc \u001b[44me \u001b[45my \u001b[44mlo \u001b[46mn \u001b[44mc \u001b[46min \u001b[45mna \u001b[45mmon \u001b[41m. \u001b[43mI \u001b[43mhave \u001b[43mto \u001b[41muse \u001b[46mso \u001b[45mmuch \u001b[43mto \u001b[41mget \u001b[41many \u001b[43mtaste \u001b[41mat \u001b[41mall \u001b[41m. \u001b[45mThis \u001b[45mis \u001b[45mthe \u001b[41mfirst \u001b[44mc \u001b[44me \u001b[45my \u001b[44mlo \u001b[46mn \u001b[43mI \u001b[44m' \u001b[43mve \u001b[41mtried \u001b[46mso \u001b[43mI \u001b[44mcan \u001b[44m' \u001b[43mt \u001b[43mcompare \u001b[41m. \u001b[43mJust \u001b[43mnot \u001b[43mimpressed \u001b[41m. \u001b[43mI \u001b[44ma \u001b[46mg \u001b[45mre \u001b[44me \u001b[41mwith \u001b[41msome \u001b[46mothers \u001b[46mthat \u001b[46mit \u001b[43mtaste \u001b[45mmore \u001b[41mlike \u001b[45mred \u001b[45mhot \u001b[44mcan \u001b[46md \u001b[45my \u001b[43msmell \u001b[46ms \u001b[41m. \u001b[44mH \u001b[46mop \u001b[44me \u001b[43mI \u001b[44mcan \u001b[41mfind \u001b[41msome \u001b[46mthat \u001b[41mhas \u001b[41msome \u001b[46mflavor \u001b[41m. \u001b[43mI \u001b[45mreally \u001b[44mdon \u001b[44m' \u001b[45mt \u001b[41mwant \u001b[43mto \u001b[43mgo \u001b[43mback \u001b[43mto \u001b[45mthe \u001b[45mother \u001b[44mc \u001b[46min \u001b[45mna \u001b[45mmon \u001b[46mthat \u001b[45mis \u001b[45mbad \u001b[41mfor \u001b[46mus\u001b[0m\n",
      "target -> \u001b[46m \u001b[0m: 3 star\n",
      "----------------------------------------------------------------------\n",
      "\u001b[41mseveral \u001b[41mof \u001b[45mthe \u001b[45mball \u001b[46ms \u001b[46mdid \u001b[45mnot \u001b[44m \u001b[44ms \u001b[46mque \u001b[46mak \u001b[41mat \u001b[41mall \u001b[41m. \u001b[46mOverall \u001b[46m, \u001b[45mpoor\u001b[0m\n",
      "target -> \u001b[43m \u001b[0m: 2 star\n",
      "----------------------------------------------------------------------\n",
      "\u001b[43mI \u001b[44m' \u001b[44mm \u001b[41m5 \u001b[44m' \u001b[41m1 \u001b[45m\" \u001b[46mand \u001b[41mon \u001b[44mme \u001b[45mit \u001b[46mLook \u001b[41med \u001b[41mlike \u001b[44ma \u001b[44mgra \u001b[46md \u001b[44mu \u001b[46mation \u001b[45mgo \u001b[44mw \u001b[46mn \u001b[41m. \u001b[41mReturned\u001b[0m\n",
      "target -> \u001b[46m \u001b[0m: 3 star\n"
     ]
    }
   ],
   "source": [
    "print(get_colored_help())\n",
    "for _ in range(5):\n",
    "  print(\"-\" * 70)\n",
    "  idx = np.random.randint(len(all_tokens))\n",
    "  print(get_colored_text(all_tokens[idx], all_tokens_max[idx], False))\n",
    "  print(\"target ->\", color_names[all_labels[idx]])"
   ]
  },
  {
   "cell_type": "code",
   "execution_count": null,
   "metadata": {},
   "outputs": [],
   "source": []
  }
 ],
 "metadata": {
  "kernelspec": {
   "display_name": "Python 3",
   "language": "python",
   "name": "python3"
  },
  "language_info": {
   "codemirror_mode": {
    "name": "ipython",
    "version": 3
   },
   "file_extension": ".py",
   "mimetype": "text/x-python",
   "name": "python",
   "nbconvert_exporter": "python",
   "pygments_lexer": "ipython3",
   "version": "3.8.5"
  }
 },
 "nbformat": 4,
 "nbformat_minor": 4
}
