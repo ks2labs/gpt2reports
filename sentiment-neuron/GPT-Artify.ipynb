{
 "cells": [
  {
   "cell_type": "code",
   "execution_count": 1,
   "metadata": {},
   "outputs": [],
   "source": [
    "from transformers import GPT2Config, GPT2Model, GPT2Tokenizer, GPT2LMHeadModel\n",
    "from transformers.modeling_outputs import CausalLMOutputWithCrossAttentions\n",
    "   \n",
    "import numpy as np\n",
    "import matplotlib.pyplot as plt\n",
    "%matplotlib inline\n",
    "from tqdm import trange\n",
    "from datasets import load_dataset\n",
    "\n",
    "import os\n",
    "import torch\n",
    "import random\n",
    "from torch import nn\n",
    "from torch.nn import functional as F\n",
    "from torch.utils.data import DataLoader, Dataset, TensorDataset\n",
    "\n",
    "from types import SimpleNamespace\n",
    "from scipy.signal import savgol_filter\n",
    "from sentencepiece import SentencePieceTrainer, SentencePieceProcessor\n",
    "\n",
    "from sklearn.metrics import plot_confusion_matrix, confusion_matrix, ConfusionMatrixDisplay\n",
    "from transformers import GPT2Model, GPT2Tokenizer, GPT2Config"
   ]
  },
  {
   "cell_type": "markdown",
   "metadata": {},
   "source": [
    "### Add heavy-weight functions First!"
   ]
  },
  {
   "cell_type": "code",
   "execution_count": 83,
   "metadata": {},
   "outputs": [
    {
     "name": "stdout",
     "output_type": "stream",
     "text": [
      "\u001b[41m \u001b[0m: 1 star \u001b[43m \u001b[0m: 2 star \u001b[46m \u001b[0m: 3 star \u001b[45m \u001b[0m: 4 star \u001b[44m \u001b[0m: 5 star\n",
      "In \u001b[43mthis \u001b[0m\u001b[46mworld \u001b[0m\u001b[45mof \u001b[0m\u001b[44mfast \u001b[0m\u001b[46mmov \u001b[0m\u001b[45ming \u001b[0m\u001b[43mtext \u001b[0m\n",
      "target -> \u001b[46m \u001b[0m: 3 star\n"
     ]
    }
   ],
   "source": [
    "CGREYBG   = '\\33[100m'\n",
    "CREDBG    = '\\33[41m'\n",
    "CGREENBG  = '\\33[42m'\n",
    "CYELLOWBG = '\\33[43m'\n",
    "CBLUEBG   = '\\33[44m'\n",
    "CVIOLETBG = '\\33[45m'\n",
    "CBEIGE2  = '\\33[46m'\n",
    "CEND = '\\033[0m'\n",
    "\n",
    "color_by_stars = {\n",
    "  0: CREDBG,\n",
    "  1: CYELLOWBG,\n",
    "  2: CBEIGE2,\n",
    "  3: CVIOLETBG,\n",
    "  4: CBLUEBG\n",
    "}\n",
    "\n",
    "color_names = [\n",
    "  f\"{color_by_stars[0]} {CEND}: 1 star\",\n",
    "  f\"{color_by_stars[1]} {CEND}: 2 star\",\n",
    "  f\"{color_by_stars[2]} {CEND}: 3 star\",\n",
    "  f\"{color_by_stars[3]} {CEND}: 4 star\",\n",
    "  f\"{color_by_stars[4]} {CEND}: 5 star\",\n",
    "]\n",
    "\n",
    "def get_colored_help():\n",
    "  return \" \".join(color_names)\n",
    "\n",
    "def get_colored_text(tokens, scores, from_idx = 0, h = True):\n",
    "  _str = \"\"\n",
    "  if h:\n",
    "    _str = get_colored_help()\n",
    "    _str += \"\\n\"\n",
    "  for i,(t,s) in enumerate(zip(tokens, scores)):\n",
    "    if i >= from_idx:\n",
    "      _str += color_by_stars[s] + t + \" \" + CEND\n",
    "    else:\n",
    "      _str += t + \" \"\n",
    "  \n",
    "  return _str\n",
    "\n",
    "\n",
    "print(get_colored_text(\n",
    "  [\"In\", \"this\", \"world\", \"of\", \"fast\", \"mov\", \"ing\" , \"text\"],\n",
    "  [0, 1, 2, 3, 4, 2, 3, 1, 2],\n",
    "  1\n",
    "))\n",
    "print(\"target ->\", color_names[2])"
   ]
  },
  {
   "cell_type": "code",
   "execution_count": 3,
   "metadata": {},
   "outputs": [],
   "source": [
    "def fetch(url):\n",
    "  # quick hack for downloading and caching file in \".tmp\"\n",
    "  # so next time you fetch() it's loaded locally\n",
    "  # https://github.com/geohot/tinygrad/blob/master/extra/utils.py\n",
    "  import requests, os, hashlib, tempfile\n",
    "  fp = os.path.join(tempfile.gettempdir(), hashlib.md5(url.encode('utf-8')).hexdigest())\n",
    "  if os.path.isfile(fp) and os.stat(fp).st_size > 0:\n",
    "    with open(fp, \"rb\") as f:\n",
    "      dat = f.read()\n",
    "  else:\n",
    "    print(\"fetching %s\" % url)\n",
    "    dat = requests.get(url).content\n",
    "    with open(fp+\".tmp\", \"wb\") as f:\n",
    "      f.write(dat)\n",
    "    os.rename(fp+\".tmp\", fp)\n",
    "  return dat"
   ]
  },
  {
   "cell_type": "code",
   "execution_count": 4,
   "metadata": {},
   "outputs": [],
   "source": [
    "model = GPT2LMHeadModel.from_pretrained(\"gpt2-xl\")\n",
    "tokenizer = GPT2Tokenizer.from_pretrained(\"gpt2-xl\")\n",
    "device = torch.device(\"cuda:0\") if torch.cuda.is_available() else \"cpu\"\n",
    "model = model.to(device)"
   ]
  },
  {
   "cell_type": "code",
   "execution_count": 178,
   "metadata": {},
   "outputs": [],
   "source": [
    "RANDOM_TEXT_SAMPLES = [\n",
    "  \"Science Today: Sirius, designated Alpha Canis Majoris, is the brightest star in the night sky\",\n",
    "  \"Did you know Ava Cherry (pictured), David Bowie's partner and muse, spent a year searching for him in Europe?\",\n",
    "  \"In the news: Samia Suluhu (pictured) becomes the first female president of Tanzania\",\n",
    "  \"In the US, a mass shootings at three massage parlors in Atlanta leaves eight dead, including six women of Asian descent.\",\n",
    "  \"These representations, learned in an unsupervised manner, achieve state of the art on the binary subset of the Stanford Sentiment Treebank.\",\n",
    "  \"Can it extract more precise slices of code? Yes. First submit a pull request telling us the desired\",\n",
    "  \"Lorem Ipsum is simply dummy text of the printing and typesetting industry. Lorem Ipsum has been the industry's standard\",\n",
    "  \"Roman society under the Republic was primarily a cultural mix of Latin and\",\n",
    "  \"Two of the Mahājanapadas were most probably ganatantras (oligarchic republics) and others\",\n",
    "  \"The Magadha was one of the most prominent and prosperous of mahajanapadas. The capital city Pataliputra\",\n",
    "  \"Parts of western India were dominated by tribes who had a slightly different culture, considered non-Vedic by the mainstream\"\n",
    "]\n",
    "\n",
    "NUM_CLUSTERS = 5"
   ]
  },
  {
   "cell_type": "code",
   "execution_count": 179,
   "metadata": {},
   "outputs": [],
   "source": [
    "RANDOM_MAT = torch.randn(model.config.n_embd, NUM_CLUSTERS, requires_grad = False, device = device)"
   ]
  },
  {
   "cell_type": "code",
   "execution_count": 180,
   "metadata": {},
   "outputs": [
    {
     "name": "stderr",
     "output_type": "stream",
     "text": [
      "Setting `pad_token_id` to `eos_token_id`:50256 for open-end generation.\n"
     ]
    },
    {
     "name": "stdout",
     "output_type": "stream",
     "text": [
      "1 24\n",
      "\u001b[41m \u001b[0m: 1 star \u001b[43m \u001b[0m: 2 star \u001b[46m \u001b[0m: 3 star \u001b[45m \u001b[0m: 4 star \u001b[44m \u001b[0m: 5 star\n",
      "----------------------------------------------------------------------\n",
      "Parts  of  western  India  were  dominated  by  tribes  who  had  a  slightly  different  culture ,  considered  non - V ed ic  by  the  mainstream \u001b[46m Hindu \u001b[0m\u001b[46m groups \u001b[0m\u001b[46m of \u001b[0m\u001b[46m South \u001b[0m\u001b[46m India \u001b[0m\u001b[46m. \u001b[0m\u001b[46m They \u001b[0m\u001b[46m are \u001b[0m\u001b[46m the \u001b[0m\u001b[46m ancestors \u001b[0m\u001b[46m of \u001b[0m\u001b[46m the \u001b[0m\u001b[46m Dal \u001b[0m\u001b[46mits \u001b[0m\u001b[46m. \u001b[0m\u001b[46m The \u001b[0m\u001b[46m two \u001b[0m\u001b[46m main \u001b[0m\u001b[46m groups \u001b[0m\u001b[46m of \u001b[0m\u001b[46m those \u001b[0m\u001b[46m tribes \u001b[0m\u001b[46m were \u001b[0m\u001b[46m the \u001b[0m\u001b[45m A \u001b[0m\n",
      "----------------------------------------------------------------------\n",
      "Parts  of  western  India  were  dominated  by  tribes  who  had  a  slightly  different  culture ,  considered  non - V ed ic  by  the  mainstream \u001b[46m, \u001b[0m\u001b[46m but \u001b[0m\u001b[46m had \u001b[0m\u001b[46m traditions \u001b[0m\u001b[46m that \u001b[0m\u001b[46m were \u001b[0m\u001b[46m very \u001b[0m\u001b[46m important \u001b[0m\u001b[46m to \u001b[0m\u001b[46m the \u001b[0m\u001b[46m Ved \u001b[0m\u001b[46mic \u001b[0m\u001b[46m religion \u001b[0m\u001b[46m. \u001b[0m\u001b[46m In \u001b[0m\u001b[46m India \u001b[0m\u001b[46m, \u001b[0m\u001b[46m these \u001b[0m\u001b[46m were \u001b[0m\u001b[46m called \u001b[0m\u001b[46m S \u001b[0m\u001b[46manny \u001b[0m\u001b[46mas \u001b[0m\u001b[46mins \u001b[0m\u001b[45m and \u001b[0m\n",
      "----------------------------------------------------------------------\n",
      "Parts  of  western  India  were  dominated  by  tribes  who  had  a  slightly  different  culture ,  considered  non - V ed ic  by  the  mainstream \u001b[46m Hindu \u001b[0m\u001b[46m population \u001b[0m\u001b[46m and \u001b[0m\u001b[46m so \u001b[0m\u001b[46m not \u001b[0m\u001b[46m a \u001b[0m\u001b[46m threat \u001b[0m\u001b[46m to \u001b[0m\u001b[46m it \u001b[0m\u001b[46m. \u001b[0m\u001b[46m They \u001b[0m\u001b[46m pract \u001b[0m\u001b[46mised \u001b[0m\u001b[46m the \u001b[0m\u001b[46m Ved \u001b[0m\u001b[46mic \u001b[0m\u001b[46m and \u001b[0m\u001b[46m other \u001b[0m\u001b[46m traditional \u001b[0m\u001b[46m religious \u001b[0m\u001b[46m practices \u001b[0m\u001b[46m, \u001b[0m\u001b[46m and \u001b[0m\u001b[46m also \u001b[0m\u001b[45m had \u001b[0m\n",
      "----------------------------------------------------------------------\n",
      "Parts  of  western  India  were  dominated  by  tribes  who  had  a  slightly  different  culture ,  considered  non - V ed ic  by  the  mainstream \u001b[46m Bra \u001b[0m\u001b[46mhm \u001b[0m\u001b[46mins \u001b[0m\u001b[46m. \u001b[0m\u001b[46m It \u001b[0m\u001b[46m is \u001b[0m\u001b[46m believed \u001b[0m\u001b[46m that \u001b[0m\u001b[46m this \u001b[0m\u001b[46m was \u001b[0m\u001b[46m where \u001b[0m\u001b[46m the \u001b[0m\u001b[46m Ary \u001b[0m\u001b[46mans \u001b[0m\u001b[46m migrated \u001b[0m\u001b[46m, \u001b[0m\u001b[46m according \u001b[0m\u001b[46m to \u001b[0m\u001b[46m the \u001b[0m\u001b[46m Ved \u001b[0m\u001b[46mas \u001b[0m\u001b[46m and \u001b[0m\u001b[46m the \u001b[0m\u001b[46m Pur \u001b[0m\u001b[45manas \u001b[0m\n",
      "----------------------------------------------------------------------\n",
      "Parts  of  western  India  were  dominated  by  tribes  who  had  a  slightly  different  culture ,  considered  non - V ed ic  by  the  mainstream \u001b[46m community \u001b[0m\u001b[46m. \u001b[0m\u001b[46m These \u001b[0m\u001b[46m tribes \u001b[0m\u001b[46m had \u001b[0m\u001b[46m their \u001b[0m\u001b[46m own \u001b[0m\u001b[46m language \u001b[0m\u001b[46m, \u001b[0m\u001b[46m religion \u001b[0m\u001b[46m, \u001b[0m\u001b[46m and \u001b[0m\u001b[46m festivals \u001b[0m\u001b[46m, \u001b[0m\u001b[46m called \u001b[0m\u001b[46m \" \u001b[0m\u001b[46mm \u001b[0m\u001b[46mah \u001b[0m\u001b[46map \u001b[0m\u001b[46mras \u001b[0m\u001b[46mtha \u001b[0m\u001b[46m\" \u001b[0m\u001b[46m by \u001b[0m\u001b[46m the \u001b[0m\u001b[45m Bra \u001b[0m\n",
      "----------------------------------------------------------------------\n",
      "Parts  of  western  India  were  dominated  by  tribes  who  had  a  slightly  different  culture ,  considered  non - V ed ic  by  the  mainstream \u001b[46m Ary \u001b[0m\u001b[46mans \u001b[0m\u001b[46m. \u001b[0m\u001b[46m\n",
      " \u001b[0m\u001b[46m\n",
      " \u001b[0m\u001b[46mThe \u001b[0m\u001b[46m Ary \u001b[0m\u001b[46mans \u001b[0m\u001b[46m came \u001b[0m\u001b[46m in \u001b[0m\u001b[46m to \u001b[0m\u001b[46m dominate \u001b[0m\u001b[46m the \u001b[0m\u001b[46m Ind \u001b[0m\u001b[46mus \u001b[0m\u001b[46m Valley \u001b[0m\u001b[46m Civil \u001b[0m\u001b[46misation \u001b[0m\u001b[46m and \u001b[0m\u001b[46m the \u001b[0m\u001b[46m civilisation \u001b[0m\u001b[46m of \u001b[0m\u001b[46m the \u001b[0m\u001b[46m region \u001b[0m\u001b[45m. \u001b[0m\n",
      "----------------------------------------------------------------------\n",
      "Parts  of  western  India  were  dominated  by  tribes  who  had  a  slightly  different  culture ,  considered  non - V ed ic  by  the  mainstream \u001b[41m of \u001b[0m\u001b[41m the \u001b[0m\u001b[41m Ary \u001b[0m\u001b[41mans \u001b[0m\u001b[41m and \u001b[0m\u001b[46m the \u001b[0m\u001b[46m Brah \u001b[0m\u001b[46mmans \u001b[0m\u001b[46m. \u001b[0m\u001b[46m As \u001b[0m\u001b[46m one \u001b[0m\u001b[46m of \u001b[0m\u001b[46m them \u001b[0m\u001b[46m said \u001b[0m\u001b[46m in \u001b[0m\u001b[46m the \u001b[0m\u001b[46m ancient \u001b[0m\u001b[46m Ved \u001b[0m\u001b[46mic \u001b[0m\u001b[46m literature \u001b[0m\u001b[46m: \u001b[0m\u001b[46m\n",
      " \u001b[0m\u001b[46m\n",
      " \u001b[0m\u001b[46mIt \u001b[0m\u001b[41m is \u001b[0m\n",
      "----------------------------------------------------------------------\n",
      "Parts  of  western  India  were  dominated  by  tribes  who  had  a  slightly  different  culture ,  considered  non - V ed ic  by  the  mainstream \u001b[44m. \u001b[0m\u001b[41m\n",
      " \u001b[0m\u001b[46m\n",
      " \u001b[0m\u001b[41mA \u001b[0m\u001b[46m major \u001b[0m\u001b[46m reason \u001b[0m\u001b[41m for \u001b[0m\u001b[41m this \u001b[0m\u001b[41m was \u001b[0m\u001b[41m that \u001b[0m\u001b[41m most \u001b[0m\u001b[41m of \u001b[0m\u001b[41m the \u001b[0m\u001b[43m local \u001b[0m\u001b[43m Ved \u001b[0m\u001b[41mic \u001b[0m\u001b[41m texts \u001b[0m\u001b[43m were \u001b[0m\u001b[45m written \u001b[0m\u001b[45m in \u001b[0m\u001b[45m Sanskrit \u001b[0m\u001b[45m, \u001b[0m\u001b[45m not \u001b[0m\u001b[45m in \u001b[0m\u001b[45m Pal \u001b[0m\n",
      "----------------------------------------------------------------------\n",
      "Parts  of  western  India  were  dominated  by  tribes  who  had  a  slightly  different  culture ,  considered  non - V ed ic  by  the  mainstream \u001b[46m Hindus \u001b[0m\u001b[46m. \u001b[0m\u001b[46m The \u001b[0m\u001b[46m Hindu \u001b[0m\u001b[46m tradition \u001b[0m\u001b[46m of \u001b[0m\u001b[46m karma \u001b[0m\u001b[46m is \u001b[0m\u001b[46m often \u001b[0m\u001b[46m attributed \u001b[0m\u001b[46m to \u001b[0m\u001b[46m these \u001b[0m\u001b[46m V \u001b[0m\u001b[46mais \u001b[0m\u001b[46mn \u001b[0m\u001b[46mava \u001b[0m\u001b[46m, \u001b[0m\u001b[46m though \u001b[0m\u001b[46m Ved \u001b[0m\u001b[46mic \u001b[0m\u001b[46m philosophy \u001b[0m\u001b[46m is \u001b[0m\u001b[46m more \u001b[0m\u001b[46m likely \u001b[0m\u001b[41m. \u001b[0m\n",
      "----------------------------------------------------------------------\n",
      "Parts  of  western  India  were  dominated  by  tribes  who  had  a  slightly  different  culture ,  considered  non - V ed ic  by  the  mainstream \u001b[44m community \u001b[0m\u001b[46m. \u001b[0m\u001b[46m The \u001b[0m\u001b[46m K \u001b[0m\u001b[46muru \u001b[0m\u001b[44mks \u001b[0m\u001b[44mhet \u001b[0m\u001b[44mra \u001b[0m\u001b[44m region \u001b[0m\u001b[41m is \u001b[0m\u001b[41m named \u001b[0m\u001b[41m after \u001b[0m\u001b[45m K \u001b[0m\u001b[45muru \u001b[0m\u001b[45mks \u001b[0m\u001b[41mhet \u001b[0m\u001b[45mra \u001b[0m\u001b[45m, \u001b[0m\u001b[45m the \u001b[0m\u001b[45m capital \u001b[0m\u001b[43m city \u001b[0m\u001b[46m of \u001b[0m\u001b[46m a \u001b[0m\u001b[46m tribe \u001b[0m\u001b[43m in \u001b[0m\n",
      "----------------------------------------------------------------------\n",
      "CPU times: user 3.03 s, sys: 231 µs, total: 3.03 s\n",
      "Wall time: 3.03 s\n"
     ]
    }
   ],
   "source": [
    "%%time\n",
    "# get encodings\n",
    "# text = random.choice(RANDOM_TEXT_SAMPLES)\n",
    "text = RANDOM_TEXT_SAMPLES[-1]\n",
    "data = {k:v.to(device) for k,v in tokenizer(text, return_tensors=\"pt\").items()}\n",
    "B, S = data[\"input_ids\"].shape\n",
    "print(B, S)\n",
    "beam_outputs = model.generate(\n",
    "  **data,\n",
    "  max_length = S + 100,\n",
    "  return_str = True,\n",
    "  seed = 4,\n",
    "  do_sample = True,\n",
    "  temperature = 0.9,\n",
    "  top_k = 40,\n",
    "  top_p=0.95,\n",
    "  num_beams = 1,\n",
    "  early_stopping=True,\n",
    "  num_return_sequences = 10,\n",
    "  return_dict_in_generate=True,\n",
    "  output_hidden_states=True\n",
    ")\n",
    "beam_tokens_expanded = [[tokenizer.decode(y, skip_special_tokens = True) for y in x] for x in beam_outputs.sequences.cpu().tolist()]\n",
    "\n",
    "# cluster values\n",
    "logits = torch.cat([x.unsqueeze(0) for x in beam_outputs.hidden_states[-1]])[:, :, 0, :]\n",
    "logits_clus = logits @ RANDOM_MAT\n",
    "logits_clus = logits_clus.permute((1, 0, 2)).argmax(-1)\n",
    "logits_clus = logits_clus.tolist()\n",
    "\n",
    "all_text = get_colored_help()\n",
    "all_text += \"\\n\"\n",
    "for _beam_tokens, _beam_logits in zip(beam_tokens_expanded, logits_clus):\n",
    "  all_text += \"-\"*70 + \"\\n\"\n",
    "  all_text += get_colored_text(_beam_tokens, _beam_logits, S, False) + \"\\n\"\n",
    "all_text += \"-\"*70\n",
    "print(all_text)"
   ]
  },
  {
   "cell_type": "code",
   "execution_count": null,
   "metadata": {},
   "outputs": [],
   "source": []
  }
 ],
 "metadata": {
  "kernelspec": {
   "display_name": "Python 3",
   "language": "python",
   "name": "python3"
  },
  "language_info": {
   "codemirror_mode": {
    "name": "ipython",
    "version": 3
   },
   "file_extension": ".py",
   "mimetype": "text/x-python",
   "name": "python",
   "nbconvert_exporter": "python",
   "pygments_lexer": "ipython3",
   "version": "3.8.5"
  }
 },
 "nbformat": 4,
 "nbformat_minor": 4
}
