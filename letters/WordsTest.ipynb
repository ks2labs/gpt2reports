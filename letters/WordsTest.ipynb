{
 "cells": [
  {
   "cell_type": "code",
   "execution_count": 32,
   "metadata": {},
   "outputs": [],
   "source": [
    "import json\n",
    "from gptgen import *\n",
    "from tqdm import trange\n",
    "import numpy as np\n",
    "from copy import deepcopy\n",
    "\n",
    "import pandas as pd"
   ]
  },
  {
   "cell_type": "code",
   "execution_count": 2,
   "metadata": {},
   "outputs": [
    {
     "data": {
      "text/plain": [
       "['hello World\" will be displayed.\\n\\nThe \"hello\" command',\n",
       " 'hello World\" will be rendered.\\n\\nTo find out more about',\n",
       " 'hello World!\\n\\nYou are in the middle of a test,',\n",
       " 'hello World\\n\\nThe most important thing to note is that there are',\n",
       " 'hello World\")); // => \"Hello World\"\\n\\n// A',\n",
       " 'hello World!\" ); }\\n\\nI like how the language supports this',\n",
       " 'hello World\", \"hello World\".println); // Hello world. //',\n",
       " 'hello World\", \"Hello World!\", \"Hello World! \", \"\"',\n",
       " 'hello World\" message on the phone. But it could happen with any',\n",
       " 'hello World>\\n\\nimport std.stdio; void main()']"
      ]
     },
     "execution_count": 2,
     "metadata": {},
     "output_type": "execute_result"
    }
   ],
   "source": [
    "gpt_completion(\"hello World\", 12)"
   ]
  },
  {
   "cell_type": "code",
   "execution_count": 3,
   "metadata": {},
   "outputs": [],
   "source": [
    "with open(\"../data/nth_letter.json\", \"r\") as f:\n",
    "  nth_dataset = json.load(f)"
   ]
  },
  {
   "cell_type": "code",
   "execution_count": 4,
   "metadata": {},
   "outputs": [
    {
     "data": {
      "text/plain": [
       "dict_keys(['questions', 'samples'])"
      ]
     },
     "execution_count": 4,
     "metadata": {},
     "output_type": "execute_result"
    }
   ],
   "source": [
    "nth_dataset.keys()"
   ]
  },
  {
   "cell_type": "code",
   "execution_count": 5,
   "metadata": {},
   "outputs": [],
   "source": [
    "def get_sample(question, examples, questions):\n",
    "  t = f\"{question}\\n\"\n",
    "  for x in examples:\n",
    "    t = t + f\"{x}\\n\"\n",
    "\n",
    "  prompts = []\n",
    "  for q in questions:\n",
    "    prompts.append(t + q[:-2])\n",
    "\n",
    "  return prompts\n",
    "\n",
    "def run_and_store_result(p):\n",
    "  corr = 0\n",
    "  for x in gpt_completion(p, 1):\n",
    "    qline = x.split(\"\\n\")[len(p.split(\"\\n\")) - 1]\n",
    "    in_, out_ = qline.split(\"->\")[1:]\n",
    "    if in_.strip()[0] == out_.strip():\n",
    "      corr += 1\n",
    "  return corr/10"
   ]
  },
  {
   "cell_type": "code",
   "execution_count": 65,
   "metadata": {},
   "outputs": [],
   "source": [
    "N_SAMPLE = 50\n",
    "results = []\n",
    "task_names = [\"hippo-banana\", \"night-owl\", \"pink-toe\", \"carol-shelby\"]\n",
    "for n in range(4, 8, 1):\n",
    "  samples = np.array(nth_dataset[\"samples\"][n])\n",
    "  for ex_size in range(1, 15, 4):\n",
    "    idx = [i for i in range(len(samples))]\n",
    "    np.random.shuffle(idx)\n",
    "    train_idx = idx[:ex_size]\n",
    "    test_idx = idx[ex_size: ex_size + N_SAMPLE]\n",
    "    \n",
    "    # train_string\n",
    "    train_string = f\"What is the {n}th letter in each word?\\n\" + \"\\n\".join(samples[train_idx])\n",
    "    test_strings = samples[test_idx].tolist()\n",
    "\n",
    "    for temp in [0.8, 0.9]:\n",
    "      for topk in [10, 30]:\n",
    "        for topp in [0.8, 0.99]:\n",
    "          for nbeams in [1, 5, 10]:\n",
    "            results.append({\n",
    "              \"accuracy\": np.random.random(len(test_idx)).tolist(),\n",
    "              \"train_string\": train_string,\n",
    "              \"test_strings\": test_strings,\n",
    "              \"task_id\": task_names[n-4],\n",
    "              \"number_of_examples\": ex_size,\n",
    "              \"temprature\": temp,\n",
    "              \"top_k\": topk,\n",
    "              \"top_p\": topp,\n",
    "              \"number_of_beams\": nbeams,\n",
    "            })"
   ]
  },
  {
   "cell_type": "code",
   "execution_count": 66,
   "metadata": {},
   "outputs": [
    {
     "name": "stdout",
     "output_type": "stream",
     "text": [
      "What is the 7th letter in each word?\n",
      "in -> shopping; out -> g\n",
      "in -> current; out -> NA\n",
      "in -> related; out -> NA\n",
      "in -> percent; out -> NA\n",
      "in -> stories; out -> NA\n",
      "in -> possible; out -> e\n",
      "in -> website; out -> NA\n",
      "in -> usually; out -> NA\n",
      "in -> services; out -> s\n",
      "in -> following; out -> n\n",
      "in -> requirements; out -> m\n",
      "in -> security; out -> y\n",
      "in -> already; out -> NA\n"
     ]
    }
   ],
   "source": [
    "print(train_string)"
   ]
  },
  {
   "cell_type": "code",
   "execution_count": 71,
   "metadata": {},
   "outputs": [],
   "source": [
    "with open(\"./dummy_res.json\", \"w\") as f:\n",
    "  f.write(json.dumps(results))"
   ]
  },
  {
   "cell_type": "code",
   "execution_count": 68,
   "metadata": {},
   "outputs": [],
   "source": [
    "df = pd.DataFrame(results)"
   ]
  },
  {
   "cell_type": "code",
   "execution_count": 70,
   "metadata": {},
   "outputs": [
    {
     "name": "stdout",
     "output_type": "stream",
     "text": [
      "                                              accuracy  \\\n",
      "255  [0.8824503376688111, 0.6170729089688675, 0.104...   \n",
      "276  [0.1536049340187916, 0.15704183779111525, 0.54...   \n",
      "347  [0.6083017760437126, 0.8493251023010111, 0.521...   \n",
      "189  [0.545747498215702, 0.9450325425993152, 0.6863...   \n",
      "319  [0.9930589852899564, 0.539873708801895, 0.3394...   \n",
      "316  [0.6779940463470899, 0.9769774584569012, 0.849...   \n",
      "250  [0.05265993704211969, 0.6220768777625025, 0.18...   \n",
      "77   [0.12936407392327087, 0.38335917366573313, 0.6...   \n",
      "79   [0.061912034717582, 0.6293456749416316, 0.1603...   \n",
      "104  [0.17092878120229527, 0.6440747161034692, 0.08...   \n",
      "\n",
      "                                          train_string  \\\n",
      "255  What is the 6th letter in each word?\\nin -> ti...   \n",
      "276  What is the 6th letter in each word?\\nin -> ac...   \n",
      "347  What is the 7th letter in each word?\\nin -> ma...   \n",
      "189  What is the 5th letter in each word?\\nin -> pr...   \n",
      "319  What is the 7th letter in each word?\\nin -> pr...   \n",
      "316  What is the 7th letter in each word?\\nin -> pr...   \n",
      "250  What is the 6th letter in each word?\\nin -> ti...   \n",
      "77   What is the 4th letter in each word?\\nin -> in...   \n",
      "79   What is the 4th letter in each word?\\nin -> in...   \n",
      "104  What is the 5th letter in each word?\\nin -> li...   \n",
      "\n",
      "                                          test_strings       task_id  \\\n",
      "255  [in -> through; out -> h, in -> interest; out ...      pink-toe   \n",
      "276  [in -> current; out -> t, in -> computer; out ...      pink-toe   \n",
      "347  [in -> hosting; out -> NA, in -> product; out ...  carol-shelby   \n",
      "189  [in -> directory; out -> t, in -> similar; out...     night-owl   \n",
      "319  [in -> however; out -> NA, in -> conference; o...  carol-shelby   \n",
      "316  [in -> however; out -> NA, in -> conference; o...  carol-shelby   \n",
      "250  [in -> through; out -> h, in -> interest; out ...      pink-toe   \n",
      "77   [in -> analysis; out -> y, in -> changes; out ...  hippo-banana   \n",
      "79   [in -> analysis; out -> y, in -> changes; out ...  hippo-banana   \n",
      "104  [in -> members; out -> r, in -> customer; out ...     night-owl   \n",
      "\n",
      "     number_of_examples  temprature  top_k  top_p  number_of_beams  _n  \n",
      "255                   9         0.9     10   0.99                1   6  \n",
      "276                  13         0.9     10   0.80                1   6  \n",
      "347                   9         0.8     30   0.99               10   7  \n",
      "189                  13         0.9     30   0.99                1   5  \n",
      "319                   5         0.8     30   0.80                5   7  \n",
      "316                   5         0.8     10   0.99                5   7  \n",
      "250                   9         0.8     30   0.99                5   6  \n",
      "77                   13         0.8     10   0.99               10   4  \n",
      "79                   13         0.8     30   0.80                5   4  \n",
      "104                   1         0.8     30   0.80               10   5  \n"
     ]
    }
   ],
   "source": [
    "print(df.sample(10))"
   ]
  },
  {
   "cell_type": "code",
   "execution_count": 47,
   "metadata": {},
   "outputs": [
    {
     "ename": "KeyError",
     "evalue": "'task'",
     "output_type": "error",
     "traceback": [
      "\u001b[0;31m---------------------------------------------------------------------------\u001b[0m",
      "\u001b[0;31mKeyError\u001b[0m                                  Traceback (most recent call last)",
      "\u001b[0;32m<ipython-input-47-1e536daa8674>\u001b[0m in \u001b[0;36m<module>\u001b[0;34m\u001b[0m\n\u001b[0;32m----> 1\u001b[0;31m \u001b[0mresults\u001b[0m\u001b[0;34m[\u001b[0m\u001b[0;36m0\u001b[0m\u001b[0;34m]\u001b[0m\u001b[0;34m[\u001b[0m\u001b[0;34m\"task\"\u001b[0m\u001b[0;34m]\u001b[0m\u001b[0;34m\u001b[0m\u001b[0;34m\u001b[0m\u001b[0m\n\u001b[0m",
      "\u001b[0;31mKeyError\u001b[0m: 'task'"
     ]
    }
   ],
   "source": [
    "results[0][\"task\"]"
   ]
  },
  {
   "cell_type": "code",
   "execution_count": null,
   "metadata": {},
   "outputs": [],
   "source": []
  },
  {
   "cell_type": "code",
   "execution_count": null,
   "metadata": {},
   "outputs": [],
   "source": []
  },
  {
   "cell_type": "code",
   "execution_count": null,
   "metadata": {},
   "outputs": [],
   "source": []
  },
  {
   "cell_type": "code",
   "execution_count": null,
   "metadata": {},
   "outputs": [],
   "source": []
  },
  {
   "cell_type": "code",
   "execution_count": 6,
   "metadata": {},
   "outputs": [
    {
     "name": "stderr",
     "output_type": "stream",
     "text": [
      "100%|██████████| 30/30 [00:30<00:00,  1.01s/it]\n"
     ]
    }
   ],
   "source": [
    "results = {}\n",
    "ex_size = 10\n",
    "for n in range(1):\n",
    "  # gather samples for all questions\n",
    "  \n",
    "  \n",
    "\n",
    "  this_n_res = {\"ex_idx\": ex_idx, \"res\": []}\n",
    "  \n",
    "  for qidx in range(1):\n",
    "    prompts = get_sample(\n",
    "      question = nth_dataset[\"questions\"][n][qidx],\n",
    "      examples = samples[ex_idx],\n",
    "      questions = samples[test_idx]\n",
    "    )\n",
    "    \n",
    "    res = []\n",
    "    for i, p in zip(trange(len(prompts)), prompts):\n",
    "      res.append(run_and_store_result(p))\n",
    "      \n",
    "    this_n_res[\"res\"].append(res)\n",
    "    \n",
    "  results[n] = this_n_res"
   ]
  },
  {
   "cell_type": "code",
   "execution_count": 7,
   "metadata": {},
   "outputs": [
    {
     "data": {
      "text/plain": [
       "{0: {'ex_idx': array([ 34,   0, 194, 140, 180, 146,  70, 193,  39, 145]),\n",
       "  'res': [[0.3,\n",
       "    0.1,\n",
       "    0.6,\n",
       "    0.3,\n",
       "    0.4,\n",
       "    0.7,\n",
       "    0.9,\n",
       "    1.0,\n",
       "    0.3,\n",
       "    0.6,\n",
       "    0.3,\n",
       "    0.5,\n",
       "    0.8,\n",
       "    0.3,\n",
       "    0.2,\n",
       "    0.1,\n",
       "    0.2,\n",
       "    0.5,\n",
       "    0.3,\n",
       "    0.7,\n",
       "    0.1,\n",
       "    0.6,\n",
       "    0.5,\n",
       "    0.3,\n",
       "    0.9,\n",
       "    0.3,\n",
       "    0.6,\n",
       "    0.1,\n",
       "    0.2,\n",
       "    0.8]]}}"
      ]
     },
     "execution_count": 7,
     "metadata": {},
     "output_type": "execute_result"
    }
   ],
   "source": [
    "results"
   ]
  },
  {
   "cell_type": "code",
   "execution_count": 74,
   "metadata": {},
   "outputs": [],
   "source": [
    "QIDX = 1\n"
   ]
  },
  {
   "cell_type": "code",
   "execution_count": 77,
   "metadata": {},
   "outputs": [
    {
     "name": "stdout",
     "output_type": "stream",
     "text": [
      "Output letter at 0th location\n",
      "in -> subject; out -> s\n",
      "in -> document; out -> d\n",
      "in -> science; out -> s\n",
      "in -> projects; out -> p\n",
      "in -> provides; out -> p\n",
      "in -> international; out -> i\n",
      "in -> contact; out -> c\n",
      "in -> september; out -> s\n",
      "in -> english; out -> e\n",
      "in -> medical; out -> m\n",
      "in -> message; out ->\n"
     ]
    }
   ],
   "source": [
    "print(prompts[9])"
   ]
  },
  {
   "cell_type": "code",
   "execution_count": 78,
   "metadata": {},
   "outputs": [
    {
     "name": "stderr",
     "output_type": "stream",
     "text": [
      "100%|██████████| 227/227 [03:50<00:00,  1.02s/it]\n"
     ]
    }
   ],
   "source": []
  },
  {
   "cell_type": "code",
   "execution_count": 79,
   "metadata": {},
   "outputs": [
    {
     "data": {
      "text/plain": [
       "[0.5,\n",
       " 0.7,\n",
       " 0.3,\n",
       " 0.8,\n",
       " 1.0,\n",
       " 0.9,\n",
       " 0.3,\n",
       " 0.4,\n",
       " 0.4,\n",
       " 0.4,\n",
       " 0.9,\n",
       " 0.2,\n",
       " 0.5,\n",
       " 0.3,\n",
       " 0.8,\n",
       " 0.6,\n",
       " 0.3,\n",
       " 0.0,\n",
       " 0.6,\n",
       " 0.8,\n",
       " 0.8,\n",
       " 0.5,\n",
       " 0.6,\n",
       " 0.2,\n",
       " 0.6,\n",
       " 0.5,\n",
       " 0.5,\n",
       " 0.9,\n",
       " 0.5,\n",
       " 0.4,\n",
       " 0.4,\n",
       " 0.8,\n",
       " 0.2,\n",
       " 0.4,\n",
       " 0.8,\n",
       " 0.2,\n",
       " 0.7,\n",
       " 0.8,\n",
       " 0.6,\n",
       " 0.8,\n",
       " 0.5,\n",
       " 0.9,\n",
       " 0.6,\n",
       " 0.4,\n",
       " 0.9,\n",
       " 0.7,\n",
       " 0.7,\n",
       " 0.2,\n",
       " 0.5,\n",
       " 0.2,\n",
       " 0.9,\n",
       " 0.2,\n",
       " 0.5,\n",
       " 0.3,\n",
       " 1.0,\n",
       " 0.9,\n",
       " 0.2,\n",
       " 0.7,\n",
       " 0.6,\n",
       " 0.5,\n",
       " 0.3,\n",
       " 0.4,\n",
       " 0.7,\n",
       " 0.3,\n",
       " 0.9,\n",
       " 0.4,\n",
       " 0.4,\n",
       " 0.5,\n",
       " 0.5,\n",
       " 0.4,\n",
       " 0.3,\n",
       " 0.8,\n",
       " 0.3,\n",
       " 0.9,\n",
       " 0.3,\n",
       " 0.3,\n",
       " 0.7,\n",
       " 0.6,\n",
       " 0.1,\n",
       " 0.6,\n",
       " 0.4,\n",
       " 0.5,\n",
       " 0.8,\n",
       " 0.8,\n",
       " 0.4,\n",
       " 0.8,\n",
       " 0.6,\n",
       " 0.5,\n",
       " 0.3,\n",
       " 0.3,\n",
       " 0.7,\n",
       " 0.6,\n",
       " 0.2,\n",
       " 0.9,\n",
       " 0.0,\n",
       " 0.1,\n",
       " 0.6,\n",
       " 0.9,\n",
       " 0.7,\n",
       " 0.5,\n",
       " 0.4,\n",
       " 0.7,\n",
       " 0.3,\n",
       " 0.3,\n",
       " 0.3,\n",
       " 0.8,\n",
       " 0.3,\n",
       " 0.4,\n",
       " 0.4,\n",
       " 0.5,\n",
       " 0.5,\n",
       " 0.5,\n",
       " 0.2,\n",
       " 0.9,\n",
       " 0.9,\n",
       " 0.2,\n",
       " 0.7,\n",
       " 0.9,\n",
       " 1.0,\n",
       " 0.6,\n",
       " 1.0,\n",
       " 0.3,\n",
       " 0.2,\n",
       " 0.6,\n",
       " 0.2,\n",
       " 0.3,\n",
       " 0.2,\n",
       " 0.6,\n",
       " 0.9,\n",
       " 0.5,\n",
       " 0.4,\n",
       " 0.2,\n",
       " 0.8,\n",
       " 0.0,\n",
       " 0.7,\n",
       " 0.6,\n",
       " 0.6,\n",
       " 0.9,\n",
       " 0.7,\n",
       " 0.9,\n",
       " 0.3,\n",
       " 0.8,\n",
       " 0.5,\n",
       " 0.1,\n",
       " 0.4,\n",
       " 0.2,\n",
       " 0.6,\n",
       " 0.3,\n",
       " 0.5,\n",
       " 0.7,\n",
       " 0.1,\n",
       " 0.7,\n",
       " 0.5,\n",
       " 0.7,\n",
       " 0.6,\n",
       " 0.6,\n",
       " 0.4,\n",
       " 0.5,\n",
       " 0.2,\n",
       " 0.4,\n",
       " 0.9,\n",
       " 0.6,\n",
       " 0.3,\n",
       " 0.2,\n",
       " 0.5,\n",
       " 0.1,\n",
       " 0.4,\n",
       " 0.2,\n",
       " 0.7,\n",
       " 0.5,\n",
       " 0.3,\n",
       " 0.1,\n",
       " 0.3,\n",
       " 0.6,\n",
       " 0.4,\n",
       " 0.3,\n",
       " 0.6,\n",
       " 0.3,\n",
       " 0.4,\n",
       " 0.9,\n",
       " 0.2,\n",
       " 0.5,\n",
       " 0.6,\n",
       " 0.8,\n",
       " 0.6,\n",
       " 0.5,\n",
       " 0.5,\n",
       " 1.0,\n",
       " 0.2,\n",
       " 0.4,\n",
       " 0.7,\n",
       " 0.5,\n",
       " 0.4,\n",
       " 0.5,\n",
       " 0.8,\n",
       " 0.6,\n",
       " 0.1,\n",
       " 0.3,\n",
       " 0.5,\n",
       " 0.5,\n",
       " 0.4,\n",
       " 0.4,\n",
       " 0.8,\n",
       " 0.2,\n",
       " 0.8,\n",
       " 0.6,\n",
       " 0.3,\n",
       " 0.7,\n",
       " 0.2,\n",
       " 0.5,\n",
       " 0.7,\n",
       " 0.5,\n",
       " 0.4,\n",
       " 0.5,\n",
       " 0.4,\n",
       " 0.2,\n",
       " 0.5,\n",
       " 0.1,\n",
       " 0.1,\n",
       " 0.8,\n",
       " 0.7,\n",
       " 0.5,\n",
       " 0.3,\n",
       " 0.4,\n",
       " 0.6,\n",
       " 0.2,\n",
       " 0.2]"
      ]
     },
     "execution_count": 79,
     "metadata": {},
     "output_type": "execute_result"
    }
   ],
   "source": [
    "res"
   ]
  },
  {
   "cell_type": "code",
   "execution_count": 73,
   "metadata": {},
   "outputs": [],
   "source": [
    "r0 = deepcopy(res)"
   ]
  },
  {
   "cell_type": "code",
   "execution_count": 76,
   "metadata": {},
   "outputs": [
    {
     "data": {
      "text/plain": [
       "'What is the letter at 0th location?'"
      ]
     },
     "execution_count": 76,
     "metadata": {},
     "output_type": "execute_result"
    }
   ],
   "source": [
    "nth_dataset[\"questions\"][NTH][0]"
   ]
  },
  {
   "cell_type": "code",
   "execution_count": null,
   "metadata": {},
   "outputs": [],
   "source": [
    "results = {}"
   ]
  }
 ],
 "metadata": {
  "kernelspec": {
   "display_name": "Python 3",
   "language": "python",
   "name": "python3"
  },
  "language_info": {
   "codemirror_mode": {
    "name": "ipython",
    "version": 3
   },
   "file_extension": ".py",
   "mimetype": "text/x-python",
   "name": "python",
   "nbconvert_exporter": "python",
   "pygments_lexer": "ipython3",
   "version": "3.9.1"
  }
 },
 "nbformat": 4,
 "nbformat_minor": 4
}
