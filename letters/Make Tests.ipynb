{
 "cells": [
  {
   "cell_type": "markdown",
   "metadata": {},
   "source": [
    "# Make Tests\n",
    "\n",
    "Notebook for making different tests."
   ]
  },
  {
   "cell_type": "code",
   "execution_count": 1,
   "metadata": {},
   "outputs": [],
   "source": [
    "import json\n",
    "import re"
   ]
  },
  {
   "cell_type": "code",
   "execution_count": 68,
   "metadata": {},
   "outputs": [],
   "source": [
    "all_examples = {}\n",
    "with open(\"../sample.en\", \"r\") as f:\n",
    "  lines = []\n",
    "  for l in f:\n",
    "    if (not len(l.strip())) or l.startswith(\"#\"):\n",
    "      continue\n",
    "    lines.append(l)\n",
    "  data = \"\".join(lines).strip().split(\":::\")[1:]\n",
    "  \n",
    "  for x in data:\n",
    "    task = {\n",
    "      \"questions\": [],\n",
    "      \"examples\": []\n",
    "    }\n",
    "    name = x.split(\"\\n\")[0].strip().lower().replace(\" \", \"_\")\n",
    "    for l in x.split(\"\\n\")[1:]:\n",
    "      if not l:\n",
    "        continue\n",
    "      if l[0] == \"%\":\n",
    "        task[\"questions\"].append(l[1:].strip())\n",
    "      elif l[0] == \"-\":\n",
    "        example = l[1:].strip()\n",
    "        output = example.split(\"<>\")\n",
    "        if name != \"words\":\n",
    "          input = output[0]\n",
    "          try:\n",
    "            options = [x.strip() for x in output[1].split(\",\")]\n",
    "          except:\n",
    "            print(name, output)\n",
    "          task[\"examples\"].append({\n",
    "            \"input\": input.strip(),\n",
    "            \"options\": options\n",
    "          })\n",
    "        \n",
    "        # this is for words so only need the words\n",
    "        else:\n",
    "          task[\"examples\"].append(example.strip())\n",
    "    all_examples[name] = task\n",
    "    "
   ]
  },
  {
   "cell_type": "code",
   "execution_count": 71,
   "metadata": {},
   "outputs": [
    {
     "data": {
      "text/plain": [
       "dict_keys(['words', 'arxiv_classification_multiple', 'country_extraction_single'])"
      ]
     },
     "execution_count": 71,
     "metadata": {},
     "output_type": "execute_result"
    }
   ],
   "source": [
    "all_examples.keys()"
   ]
  },
  {
   "cell_type": "code",
   "execution_count": 85,
   "metadata": {},
   "outputs": [],
   "source": [
    "def nth_letter(data, n, na_tag = \"NA\"):\n",
    "  # what is the n'th letter of the word\n",
    "  nth_letters = []\n",
    "  for x in data[\"examples\"]:\n",
    "    if len(x) > n:\n",
    "      nth_letters.append(x[n])\n",
    "    else:\n",
    "      nth_letters.append(na_tag)\n",
    "      \n",
    "  # create sample strings\n",
    "  strings = []\n",
    "  for nth, word in zip(nth_letters, data[\"examples\"]):\n",
    "    strings.append(f\"in -> {word}; out -> {nth}\")\n",
    "  \n",
    "  return strings"
   ]
  },
  {
   "cell_type": "code",
   "execution_count": 87,
   "metadata": {},
   "outputs": [
    {
     "data": {
      "text/plain": [
       "['in -> information; out -> i',\n",
       " 'in -> contact; out -> c',\n",
       " 'in -> business; out -> b',\n",
       " 'in -> services; out -> s',\n",
       " 'in -> service; out -> s',\n",
       " 'in -> products; out -> p',\n",
       " 'in -> product; out -> p',\n",
       " 'in -> available; out -> a',\n",
       " 'in -> copyright; out -> c',\n",
       " 'in -> support; out -> s']"
      ]
     },
     "execution_count": 87,
     "metadata": {},
     "output_type": "execute_result"
    }
   ],
   "source": [
    "zeroth_letters = nth_letter(all_examples[\"words\"], 0)\n",
    "zeroth_letters[:10]"
   ]
  },
  {
   "cell_type": "code",
   "execution_count": 97,
   "metadata": {},
   "outputs": [],
   "source": [
    "nth_words_dataset = []\n",
    "for n in range(10):\n",
    "  samples = nth_letter(all_examples[\"words\"], n)\n",
    "  nth_words_dataset.append(samples)\n",
    "  \n",
    "nth_questions = []  \n",
    "for n in range(10):\n",
    "  qs = [\n",
    "    f\"What is the letter at {n}th location?\",\n",
    "    f\"Output letter at {n}th location\",\n",
    "    f\"{n}th letter?\"\n",
    "  ]\n",
    "  nth_questions.append(qs)"
   ]
  },
  {
   "cell_type": "code",
   "execution_count": 100,
   "metadata": {},
   "outputs": [],
   "source": [
    "with open(\"nth_letter.json\", \"w\") as f:\n",
    "  f.write(json.dumps({\n",
    "    \"questions\": nth_questions,\n",
    "    \"samples\": nth_words_dataset\n",
    "  }))"
   ]
  },
  {
   "cell_type": "code",
   "execution_count": null,
   "metadata": {},
   "outputs": [],
   "source": []
  }
 ],
 "metadata": {
  "kernelspec": {
   "display_name": "Python 3",
   "language": "python",
   "name": "python3"
  },
  "language_info": {
   "codemirror_mode": {
    "name": "ipython",
    "version": 3
   },
   "file_extension": ".py",
   "mimetype": "text/x-python",
   "name": "python",
   "nbconvert_exporter": "python",
   "pygments_lexer": "ipython3",
   "version": "3.9.1"
  }
 },
 "nbformat": 4,
 "nbformat_minor": 4
}
